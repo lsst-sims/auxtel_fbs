{
 "cells": [
  {
   "cell_type": "markdown",
   "id": "701b71c3-97b8-46db-b388-23ff993d262e",
   "metadata": {},
   "source": [
    "# Configuring AuxTel FBS\n",
    "Feb 2025."
   ]
  },
  {
   "cell_type": "markdown",
   "id": "fb797f59-d7ee-4908-bfe0-11ab8389f494",
   "metadata": {},
   "source": [
    "## Overview\n",
    "\n",
    "This notebook is intended to help to test configurations of the auxtel scheduler with the [ts_config_ocs/Scheduler/feature_scheduler/auxtel/feb_2025_fbs_spec_survey](https://github.com/lsst-ts/ts_config_ocs/blob/develop/Scheduler/feature_scheduler/auxtel/feb_2025_fbs_spec_survey.py) configuration.\n",
    "\n",
    "It loads up the potential targets from the `auxtel_targets.yaml` file in `ts_fbs_utils`, plots their airmass over the night (to help choose the best targets for a given night), then runs the `feb_2025_fbs_spec_survey` configuration and shows the targets that would be chosen throughout the night, assuming that the observatory model is accurate and there are no interruptions due to faults or weather. The resulting airmass distribution of the simulated observations is plotted, and a few summary values (total number of observations, airmass range) counted up."
   ]
  },
  {
   "cell_type": "markdown",
   "id": "5b91e79b-494b-48f4-986b-1ab0e4a4b3fa",
   "metadata": {},
   "source": [
    "## FBS Configuration \n",
    "\n",
    "The basic idea in the configuration is that there are a variety of potential spectroscopy and imaging targets in [ts_fbs_utils/python/lsst/ts/fbs/utils/data/auxtel_targets.yaml](https://github.com/lsst-ts/ts_fbs_utils/blob/develop/python/lsst/ts/fbs/utils/data/auxtel_targets.yaml). For each entry, there is basic information on its location (ra/dec) and what JSON BLOCK should be used to observe the target (ideally a reusable, configurable JSON BLOCK, but not all are at that level yet). Along with this basic information, there are some additional entries which serve to help configure the FBS:\n",
    " * nexp - the number of visits in each sequence (aka how many times the JSON BLOCK should be run for each time this target hits the top of the FBS queue).\n",
    " * visit_gap - the amount of time to wait after the last visit in the sequence, before the target could be activated again\n",
    " * exptime - the amount of time to tell the FBS that each visit will take. For imaging this is straightforward (more or less exposure time), but for spectroscopy it should include the total time to run the imaging portions of the JSON BLOCK.\n",
    " * priority - a number to weight the reward functions for this target\n",
    "\n",
    "This configuration for auxtel imaging + spectroscopy is fairly simple -- each target matches a different survey (and sometimes two surveys, if it is both a priority and a backup target). And each survey has a fairly simple set of basis functions, which are primarily masks:\n",
    " * AvoidDirectWind - stay away from pointing into the wind, depending on the value of `wind_speed_maximum` (a large value for wind_speed_maximum will essentially turn this off)\n",
    " * MoonAvoidance - don't point closer than 30 degrees toward the moon. The size of the moon avoidance region could be modified, but this is the default.\n",
    " * AltAzShadowMask - this masks parts of the sky which are inaccessible. The default is to just mask below 26 degrees in altitude and above 85 degrees in altitude. There are more options available, if desired.\n",
    " * VisitGap - this causes the survey to count itself as unavailable after a sequence is acquired, until the `visit_gap` time (in minutes) has expired.\n",
    "For some of the backup surveys, it may be desirable to include slew time basis functions .. but in general, the current setup makes it easy to cycle through a limited set of targets, simply by setting the visit_gap and priority appropriately.\n",
    "\n",
    "For example, consider a scheduler set up with two targets, of equal priority, each with nexp = 4 and exptime = 300. Assume neither are close to the moon, get masked by wind, or fall into altitude avoidance zones, so at no point is either target unavailable (this, of course, will vary for real targets and conditions). In this case, IF there was no visit gap, random chance would pick one targets at the start of the night, take 4 visits each of exptime 300, and then after 1200 seconds (20 minutes), random chance would again pick between the two targets for a second 20 minutes, and on and on. Perhaps one target would 'win' the whole night, or perhaps it would vary. If one target was indicated to be a higher priority (`priority` set to 1.2 instead of the default 1), then that target would \"win\" for the entire night. However, if the goal was to cycle between these two targets every 20 minutes, then simply add a value for the `visit_gap` for each survey of about 15 minutes -- this would ensure that after a sequence was acquired for one target, the other target would be acquired next .. by the time the sequence for the second target is finished, the first target would be available again while the second was masked. The result would be alternating between the targets every twenty minutes. For a quicker alternation between targets, set a shorter sequence (nexp = 2 and visit_gap = 8 would result in about a 10 minute cadence,  etc). \n",
    "\n",
    "With more targets, this becomes more complicated, but an alternating series can be set up just using nexp, visit_gap, and exptime appropriately. Priority (especially combined with larger nexp or shorter visit_gap) can cause one target to be favored over the others, such as for a target chosen for more detailed study in a given night.\n",
    "\n",
    "In addition, subsets of the total number of available targest in `auxtel_targets.yaml` can be chosen in the lists for `imaging_priority_targets`, `imaging_backup_targets`, `spectroscopy_priority_targets` and `spectroscopy_backup_targets`. \n",
    "The imaging priority and spectroscopy priority targets are placed together in tier 1 (currently - could be modified to make these separate tiers), then spectroscopy_backup goes into tier 2 and imaging_backup in tier 3. Tier 0 is the CWFS survey, set up to trigger every 2 hours on a point on the sky close to where observing is currently occuring. \n",
    "\n",
    "Remember that \"tiers\" of the FBS work like this: within a given tier, surveys are weighed against each other and whichever has the highest reward \"wins\" in that tier. However, the lowest tier will win against any survey in a higher tier -- if the tier 0 surveys *can* possibly execute, they will. Likewise, if tier 0 cannot, but tier 1 can - one of the tier 1 surveys will definitely execute. A higher level tier will never execute if anything in a lower tier is viable. "
   ]
  },
  {
   "cell_type": "markdown",
   "id": "cb21774f-924c-4a02-ab9b-6c38f74e7523",
   "metadata": {},
   "source": [
    "## Running this notebook\n",
    "\n",
    "Technical setup requirements: `rubin_scheduler` must be installed, along with its data. You will also need `ts_fbs_utils` installed (a pip developer installation would be best), and a git clone of the `ts_config_ocs` repo.  \n",
    "Short instructions for the full process, but note that some pieces can be skipped in some locations. \n",
    "\n",
    "* Install rubin_scheduler (you may want to make a new conda environment first) if needed. On the RSPs, `rubin_scheduler` is already installed, so you can skip this step. You want 3.4.0 or later, to match summit (hopefully soon 3.5.0). <br>\n",
    "  ```conda install -c conda-forge rubin-scheduler```  <br> More details are available at the [installation instructions](https://rubin-scheduler.lsst.io/installation.html) if needed.\n",
    "  \n",
    "* Make sure the rubin_scheduler data is available. On the USDF RSP, setting <br> ```os.environ[\"RUBIN_SIM_DATA_DIR\"] = \"/sdf/data/rubin/shared/rubin_sim_data\"``` <br>\n",
    "will make the data available from a shared location. <br> In other locations (including other RSPs), follow the [data download instructions](https://rubin-scheduler.lsst.io/data-download.html#data-download) and add the environment variable to point to the download location. <br> ```export RUBIN_SIM_DATA_DIR=\"/my/preferred/data/path\" <br> scheduler_download_data``` <br> For just the skybrightness files relevant to the current time, skip `rs_download_sky` and just download [60658-60871.h5](https://s3df.slac.stanford.edu/data/rubin/sim-data/sims_skybrightness_pre/h5_2023_09_12/60658_60871.h5) into the `$RUBIN_SIM_DATA_DIR/skybrightness_pre` directory.\n",
    "\n",
    "* Choose the location to save your copy of the `ts_fbs_utils` and `ts_config_ocs` repositories, then git clone both [ts_fbs_utils](https://github.com/lsst-ts/ts_fbs_utils) and [ts_config_ocs](https://github.com/lsst-ts/ts_config_ocs)\n",
    "\n",
    "* Change into the `ts_fbs_utils` repository and ensure that your conda environment with rubin-scheduler is active, then: <br> ```pip install -e . --no-deps```\n",
    "\n",
    "* Make a link to the FBS configuration file from the directory where you are running this notebook, so that it's easy to import. <br> ```ln -s ts_config_ocs/Schedulerfeature_scheduler/auxtel/fbs_spec_flex_survey.py .```\n",
    "\n",
    "Edits to the auxtel_targets.yaml file in `ts_fbs_utils` or the FBS configuration file in `ts_config_ocs` should now be picked up whenever you restart the notebook, to explore different options for the configuration."
   ]
  },
  {
   "cell_type": "code",
   "execution_count": 1,
   "id": "4b0d1317-3837-48c9-b0cb-f6715e2ce324",
   "metadata": {},
   "outputs": [],
   "source": [
    "# Import the needed packages\n",
    "\n",
    "import os\n",
    "import warnings\n",
    "import numpy as np\n",
    "import pandas as pd\n",
    "import matplotlib.pyplot as plt\n",
    "from IPython.display import display, Markdown, HTML\n",
    "\n",
    "from astropy.coordinates import SkyCoord, Angle\n",
    "from astropy.time import Time, TimeDelta\n",
    "import astropy.units as u\n",
    "import astropy\n",
    "astropy.utils.iers.conf.iers_degraded_accuracy = 'ignore'\n",
    "\n",
    "from zoneinfo import ZoneInfo\n",
    "\n",
    "timezone = \"Chile/Continental\"\n",
    "tz = ZoneInfo(timezone)\n",
    "tz_utc = ZoneInfo(\"UTC\")\n",
    "\n",
    "from astroplan import FixedTarget, Observer\n",
    "from astroplan.plots import plot_airmass\n",
    "\n",
    "from rubin_scheduler.scheduler import sim_runner\n",
    "from rubin_scheduler.site_models import Almanac\n",
    "from rubin_scheduler.utils import Site\n",
    "from rubin_scheduler.scheduler.surveys import FieldSurvey\n",
    "from rubin_scheduler.scheduler.example import get_ideal_model_observatory\n",
    "\n",
    "from lsst.ts.fbs.utils.auxtel.surveys import get_auxtel_targets\n",
    "from lsst.ts.fbs.utils import Target\n",
    "\n",
    "# Import the 'get_scheduler' from the ts_config_ocs configuration file - ts_config_ocs/Scheduler/feature_scheduler/auxtel/<filename>\n",
    "# Easiest way to import get_scheduler is to either link that file to your current directory, or run this notebook in that directory\n",
    "from fbs_spec_flex_survey import get_scheduler\n",
    "\n",
    "# If running on the USDF, find rubin_scheduler data here:\n",
    "if \"usdf\" in os.getenv(\"EXTERNAL_INSTANCE_URL\", \"\"):\n",
    "    os.environ[\"RUBIN_SIM_DATA_DIR\"] = \"/sdf/data/rubin/shared/rubin_sim_data\""
   ]
  },
  {
   "cell_type": "markdown",
   "id": "144b5845-9971-4aab-9869-ecade8a50e0e",
   "metadata": {},
   "source": [
    "## Choose night for the simulation"
   ]
  },
  {
   "cell_type": "code",
   "execution_count": 2,
   "id": "fa9cde7a-2c4c-4688-8482-c33470cd2746",
   "metadata": {},
   "outputs": [
    {
     "data": {
      "text/markdown": [
       "## Almanac information for dayobs 2025-02-24"
      ],
      "text/plain": [
       "<IPython.core.display.Markdown object>"
      ]
     },
     "metadata": {},
     "output_type": "display_data"
    },
    {
     "data": {
      "text/markdown": [
       "12-deg sunset at 02/25/25 00:14:46 UTC  -- 02/24/25 21:14:46 Chile/Continental"
      ],
      "text/plain": [
       "<IPython.core.display.Markdown object>"
      ]
     },
     "metadata": {},
     "output_type": "display_data"
    },
    {
     "data": {
      "text/markdown": [
       "12-deg sunrise at 02/25/25 09:37:38 UTC --  02/25/25 06:37:38 Chile/Continental"
      ],
      "text/plain": [
       "<IPython.core.display.Markdown object>"
      ]
     },
     "metadata": {},
     "output_type": "display_data"
    },
    {
     "data": {
      "text/markdown": [
       "allowing for a night of 9.38 hours"
      ],
      "text/plain": [
       "<IPython.core.display.Markdown object>"
      ]
     },
     "metadata": {},
     "output_type": "display_data"
    },
    {
     "data": {
      "text/markdown": [
       "Moonrise is at 02/25/25 07:43:30 UTC -- 02/25/25 04:43:30 Chile/Continental"
      ],
      "text/plain": [
       "<IPython.core.display.Markdown object>"
      ]
     },
     "metadata": {},
     "output_type": "display_data"
    },
    {
     "data": {
      "text/markdown": [
       "Moonset at 02/25/25 21:59:21 UTC -- 02/25/25 18:59:21 Chile/Continental"
      ],
      "text/plain": [
       "<IPython.core.display.Markdown object>"
      ]
     },
     "metadata": {},
     "output_type": "display_data"
    },
    {
     "data": {
      "text/markdown": [
       "Moon phase is 22.3 (0=new, 100=full)."
      ],
      "text/plain": [
       "<IPython.core.display.Markdown object>"
      ]
     },
     "metadata": {},
     "output_type": "display_data"
    },
    {
     "data": {
      "text/markdown": [
       "Moon location at RA 19:56:19.00081549, Dec -24:35:35.00690098"
      ],
      "text/plain": [
       "<IPython.core.display.Markdown object>"
      ]
     },
     "metadata": {},
     "output_type": "display_data"
    }
   ],
   "source": [
    "# What night do you want to simulate? \n",
    "DAYOBS = '2025-02-24'\n",
    "day_obs_mjd = int(Time(DAYOBS).mjd)\n",
    "site = Site('LSST')\n",
    "almanac = Almanac()\n",
    "night_events = almanac.get_sunset_info(evening_date=DAYOBS, longitude=site.longitude_rad)\n",
    "civil_sunset = Time(night_events['sunset'], format='mjd', scale='utc') \n",
    "sunset = Time(night_events['sun_n12_setting'], format='mjd', scale='utc') \n",
    "sunrise = Time(night_events['sun_n12_rising'], format='mjd', scale='utc')\n",
    "survey_length = sunrise.mjd - sunset.mjd\n",
    "night_length = sunrise.mjd - sunset.mjd\n",
    "\n",
    "display(Markdown(f\"## Almanac information for dayobs {DAYOBS}\"))\n",
    "\n",
    "display(Markdown(f\"12-deg sunset at {sunset.to_datetime(timezone=tz_utc).strftime('%x %X')} UTC  -- {sunset.to_datetime(timezone=tz).strftime('%x %X')} {timezone}\"))\n",
    "display(Markdown(f\"12-deg sunrise at {sunrise.to_datetime(timezone=tz_utc).strftime('%x %X')} UTC --  {sunrise.to_datetime(timezone=tz).strftime('%x %X')} {timezone}\"))\n",
    "display(Markdown(f\"allowing for a night of {night_length * 24 :.2f} hours\"))\n",
    "moon_phase = almanac.get_sun_moon_positions(sunset.mjd)['moon_phase']\n",
    "if not np.isnan(night_events['moonrise']):\n",
    "    moonrise = Time(night_events['moonrise'], format='mjd', scale='utc')\n",
    "    display(Markdown(f\"Moonrise is at {moonrise.to_datetime(timezone=tz_utc).strftime('%x %X')} UTC -- {moonrise.to_datetime(timezone=tz).strftime('%x %X')} {timezone}\"))\n",
    "if not np.isnan(night_events['moonset']):\n",
    "    moonset = Time(night_events['moonset'], format='mjd', scale='utc')\n",
    "    display(Markdown(f\"Moonset at {moonset.to_datetime(timezone=tz_utc).strftime('%x %X')} UTC -- {moonset.to_datetime(timezone=tz).strftime('%x %X')} {timezone}\"))\n",
    "display(Markdown(f\"Moon phase is {moon_phase :.1f} (0=new, 100=full).\"))\n",
    "display(Markdown(f\"Moon location at RA {Angle(almanac.get_sun_moon_positions(sunset.mjd)['moon_RA'][0] * u.rad).to_string(unit=u.hour, sep=':')}, \"\n",
    "                 f\"Dec {Angle(almanac.get_sun_moon_positions(sunset.mjd)['moon_dec'] * u.rad).to_string(unit=u.degree, sep=':')}\"))"
   ]
  },
  {
   "cell_type": "markdown",
   "id": "14781337-3233-4eeb-a2ee-7cf95f9151ee",
   "metadata": {},
   "source": [
    "## Get target pointing information"
   ]
  },
  {
   "cell_type": "code",
   "execution_count": 3,
   "id": "18d8793c-feac-441e-91ab-954d88296910",
   "metadata": {},
   "outputs": [],
   "source": [
    "target_pointings = get_auxtel_targets()\n",
    "\n",
    "targets = []\n",
    "astroplan_targets = []\n",
    "for category in target_pointings:\n",
    "    cat = category.split('_')[1].upper()\n",
    "    for target_name in target_pointings[category]:\n",
    "        tt = target_pointings[category][target_name]\n",
    "        target = Target(\n",
    "            target_name=target_name,\n",
    "            survey_name=f\"{cat}:{target_name}\",\n",
    "            science_program=tt[\"block\"],\n",
    "            ra=Angle(tt[\"ra\"], unit=u.hourangle),\n",
    "            dec=Angle(tt[\"dec\"], unit=u.deg),\n",
    "            hour_angle_limit=None,\n",
    "            filters=[\"r\"],\n",
    "            visit_gap=tt.get(\"visit_gap\", 5),\n",
    "            exptime=tt.get(\"exptime\", 300),\n",
    "            nexp=1,\n",
    "            reward_value=tt.get(\"priority\", 1),\n",
    "        )\n",
    "        targets.append(target)\n",
    "\n",
    "        # Make astroplan targets, for airmass plot\n",
    "        atarget = FixedTarget(SkyCoord(ra=Angle(tt[\"ra\"], unit=u.hourangle), dec=Angle(tt[\"dec\"], unit=u.deg)), name=target_name)\n",
    "        astroplan_targets.append(atarget)"
   ]
  },
  {
   "cell_type": "code",
   "execution_count": 4,
   "id": "83c30ed9-8718-4d8c-93a6-0d7194c69951",
   "metadata": {},
   "outputs": [
    {
     "name": "stdout",
     "output_type": "stream",
     "text": [
      "auxtel_candidate_catalog_targets ['HD42525', 'HD60753', 'HD73495', 'HD111980', 'HD132096', 'HD146233', 'HD167060', 'HD205905']\n",
      "auxtel_standard_catalog_targets ['HD2811', 'HD38666', 'HD185975']\n",
      "auxtel_imaging_targets ['Photo08000-1']\n"
     ]
    }
   ],
   "source": [
    "# For easier copy-paste back into the fbs configuration file if needed\n",
    "for category in target_pointings:\n",
    "    print(category, list(target_pointings[category].keys()))"
   ]
  },
  {
   "cell_type": "code",
   "execution_count": 5,
   "id": "3804f432-d16e-4583-9a12-869080ae2767",
   "metadata": {},
   "outputs": [
    {
     "data": {
      "text/html": [
       "<div>\n",
       "<style scoped>\n",
       "    .dataframe tbody tr th:only-of-type {\n",
       "        vertical-align: middle;\n",
       "    }\n",
       "\n",
       "    .dataframe tbody tr th {\n",
       "        vertical-align: top;\n",
       "    }\n",
       "\n",
       "    .dataframe thead th {\n",
       "        text-align: right;\n",
       "    }\n",
       "</style>\n",
       "<table border=\"1\" class=\"dataframe\">\n",
       "  <thead>\n",
       "    <tr style=\"text-align: right;\">\n",
       "      <th></th>\n",
       "      <th>ra</th>\n",
       "      <th>dec</th>\n",
       "      <th>block</th>\n",
       "      <th>exptime</th>\n",
       "      <th>nexp</th>\n",
       "      <th>visit_gap</th>\n",
       "      <th>priority</th>\n",
       "    </tr>\n",
       "  </thead>\n",
       "  <tbody>\n",
       "    <tr>\n",
       "      <th>HD42525</th>\n",
       "      <td>06:06:09</td>\n",
       "      <td>-66:02:23</td>\n",
       "      <td>BLOCK-312</td>\n",
       "      <td>300</td>\n",
       "      <td>2</td>\n",
       "      <td>15</td>\n",
       "      <td>1</td>\n",
       "    </tr>\n",
       "    <tr>\n",
       "      <th>HD60753</th>\n",
       "      <td>07:33:27</td>\n",
       "      <td>-50:35:03.3</td>\n",
       "      <td>BLOCK-312</td>\n",
       "      <td>300</td>\n",
       "      <td>2</td>\n",
       "      <td>15</td>\n",
       "      <td>1</td>\n",
       "    </tr>\n",
       "    <tr>\n",
       "      <th>HD73495</th>\n",
       "      <td>08:37:52</td>\n",
       "      <td>-26:15:18.0</td>\n",
       "      <td>BLOCK-312</td>\n",
       "      <td>300</td>\n",
       "      <td>2</td>\n",
       "      <td>8</td>\n",
       "      <td>1</td>\n",
       "    </tr>\n",
       "    <tr>\n",
       "      <th>HD111980</th>\n",
       "      <td>12:53:15</td>\n",
       "      <td>-18:31:20.0</td>\n",
       "      <td>BLOCK-311</td>\n",
       "      <td>420</td>\n",
       "      <td>5</td>\n",
       "      <td>8</td>\n",
       "      <td>1</td>\n",
       "    </tr>\n",
       "    <tr>\n",
       "      <th>HD132096</th>\n",
       "      <td>14:58:36.5</td>\n",
       "      <td>-39:54:25.8</td>\n",
       "      <td>BLOCK-311</td>\n",
       "      <td>420</td>\n",
       "      <td>5</td>\n",
       "      <td>8</td>\n",
       "      <td>1</td>\n",
       "    </tr>\n",
       "    <tr>\n",
       "      <th>HD146233</th>\n",
       "      <td>16:15:37</td>\n",
       "      <td>-08:22:10.0</td>\n",
       "      <td>BLOCK-312</td>\n",
       "      <td>300</td>\n",
       "      <td>2</td>\n",
       "      <td>8</td>\n",
       "      <td>1</td>\n",
       "    </tr>\n",
       "    <tr>\n",
       "      <th>HD167060</th>\n",
       "      <td>18:17:44</td>\n",
       "      <td>-61:42:31.6</td>\n",
       "      <td>BLOCK-311</td>\n",
       "      <td>420</td>\n",
       "      <td>2</td>\n",
       "      <td>8</td>\n",
       "      <td>1</td>\n",
       "    </tr>\n",
       "    <tr>\n",
       "      <th>HD205905</th>\n",
       "      <td>21:39:10</td>\n",
       "      <td>-27:18:23.7</td>\n",
       "      <td>BLOCK-312</td>\n",
       "      <td>300</td>\n",
       "      <td>2</td>\n",
       "      <td>8</td>\n",
       "      <td>1</td>\n",
       "    </tr>\n",
       "    <tr>\n",
       "      <th>HD2811</th>\n",
       "      <td>00:31:18</td>\n",
       "      <td>-43:36:23.0</td>\n",
       "      <td>BLOCK-311</td>\n",
       "      <td>420</td>\n",
       "      <td>5</td>\n",
       "      <td>8</td>\n",
       "      <td>1</td>\n",
       "    </tr>\n",
       "    <tr>\n",
       "      <th>HD38666</th>\n",
       "      <td>05:46:00</td>\n",
       "      <td>-32:18:23.2</td>\n",
       "      <td>BLOCK-312</td>\n",
       "      <td>300</td>\n",
       "      <td>5</td>\n",
       "      <td>8</td>\n",
       "      <td>2</td>\n",
       "    </tr>\n",
       "    <tr>\n",
       "      <th>HD185975</th>\n",
       "      <td>20:28:18</td>\n",
       "      <td>-87:28:19</td>\n",
       "      <td>BLOCK-311</td>\n",
       "      <td>420</td>\n",
       "      <td>1</td>\n",
       "      <td>90</td>\n",
       "      <td>1</td>\n",
       "    </tr>\n",
       "    <tr>\n",
       "      <th>Photo08000-1</th>\n",
       "      <td>08:10:00</td>\n",
       "      <td>-36:11:23</td>\n",
       "      <td>BLOCK-306</td>\n",
       "      <td>35</td>\n",
       "      <td>8</td>\n",
       "      <td>600</td>\n",
       "      <td>1.5</td>\n",
       "    </tr>\n",
       "  </tbody>\n",
       "</table>\n",
       "</div>"
      ],
      "text/plain": [
       "                      ra          dec      block exptime nexp visit_gap  \\\n",
       "HD42525         06:06:09    -66:02:23  BLOCK-312     300    2        15   \n",
       "HD60753         07:33:27  -50:35:03.3  BLOCK-312     300    2        15   \n",
       "HD73495         08:37:52  -26:15:18.0  BLOCK-312     300    2         8   \n",
       "HD111980        12:53:15  -18:31:20.0  BLOCK-311     420    5         8   \n",
       "HD132096      14:58:36.5  -39:54:25.8  BLOCK-311     420    5         8   \n",
       "HD146233        16:15:37  -08:22:10.0  BLOCK-312     300    2         8   \n",
       "HD167060        18:17:44  -61:42:31.6  BLOCK-311     420    2         8   \n",
       "HD205905        21:39:10  -27:18:23.7  BLOCK-312     300    2         8   \n",
       "HD2811          00:31:18  -43:36:23.0  BLOCK-311     420    5         8   \n",
       "HD38666         05:46:00  -32:18:23.2  BLOCK-312     300    5         8   \n",
       "HD185975        20:28:18    -87:28:19  BLOCK-311     420    1        90   \n",
       "Photo08000-1    08:10:00    -36:11:23  BLOCK-306      35    8       600   \n",
       "\n",
       "             priority  \n",
       "HD42525             1  \n",
       "HD60753             1  \n",
       "HD73495             1  \n",
       "HD111980            1  \n",
       "HD132096            1  \n",
       "HD146233            1  \n",
       "HD167060            1  \n",
       "HD205905            1  \n",
       "HD2811              1  \n",
       "HD38666             2  \n",
       "HD185975            1  \n",
       "Photo08000-1      1.5  "
      ]
     },
     "execution_count": 5,
     "metadata": {},
     "output_type": "execute_result"
    }
   ],
   "source": [
    "# Display target information for double-check on block/exptime/nexp/visit_gap/priority\n",
    "dd = pd.concat([pd.DataFrame(target_pointings[category]).T for category in target_pointings])\n",
    "dd"
   ]
  },
  {
   "cell_type": "markdown",
   "id": "0b21ed71-4981-418f-b7da-08ee10030677",
   "metadata": {},
   "source": [
    "### Target Airmass throughout the night"
   ]
  },
  {
   "cell_type": "code",
   "execution_count": 6,
   "id": "b73ae7a4-3690-49a8-9872-1559f1c02d16",
   "metadata": {},
   "outputs": [
    {
     "name": "stderr",
     "output_type": "stream",
     "text": [
      "WARNING: TimeDeltaMissingUnitWarning: Numerical value without unit or explicit format passed to TimeDelta, assuming days [astropy.time.core]\n"
     ]
    },
    {
     "data": {
      "text/plain": [
       "<matplotlib.legend.Legend at 0x16a1fe7b0>"
      ]
     },
     "execution_count": 6,
     "metadata": {},
     "output_type": "execute_result"
    },
    {
     "data": {
      "image/png": "[encoded data removed]",
      "text/plain": [
       "<Figure size 640x480 with 1 Axes>"
      ]
     },
     "metadata": {},
     "output_type": "display_data"
    }
   ],
   "source": [
    "# Plot the airmass of these targets over the night\n",
    "observer = Observer(location=site.to_earth_location())\n",
    "time = np.arange(sunset, sunrise, TimeDelta(20*60, format='sec'))\n",
    "plot_airmass(astroplan_targets, observer, time)\n",
    "plt.legend(loc=(1.01, 0.3))"
   ]
  },
  {
   "cell_type": "markdown",
   "id": "2a677e62-f59a-45e3-ad76-d8b1a0311abd",
   "metadata": {},
   "source": [
    "## Set up Scheduler"
   ]
  },
  {
   "cell_type": "code",
   "execution_count": 7,
   "id": "31bfb0d6-232a-4708-892b-bd9cc6276064",
   "metadata": {},
   "outputs": [
    {
     "name": "stderr",
     "output_type": "stream",
     "text": [
      "/Users/lynnej/lsst_repos/rubin_scheduler/rubin_scheduler/scheduler/basis_functions/basis_functions.py:942: FutureWarning: filtername deprecated in favor of bandname\n",
      "  warnings.warn(\"filtername deprecated in favor of bandname\", FutureWarning)\n",
      "/Users/lynnej/lsst_repos/rubin_scheduler/rubin_scheduler/scheduler/basis_functions/basis_functions.py:1315: FutureWarning: filter_names deprecated in favor of band_names\n",
      "  warnings.warn(\"filter_names deprecated in favor of band_names\", FutureWarning)\n"
     ]
    }
   ],
   "source": [
    "nside, scheduler = get_scheduler()"
   ]
  },
  {
   "cell_type": "code",
   "execution_count": 8,
   "id": "ae93f3dc-2bd1-4ea8-bf88-c188a389ee50",
   "metadata": {},
   "outputs": [
    {
     "name": "stdout",
     "output_type": "stream",
     "text": [
      "\n",
      " TIER 0\n",
      "cwfs\n",
      "basis_functions ['M5Diff r @6106469040', 'Slewtime g @6106469376', 'Slewtime r @6106523728', 'Slewtime i @6106526288', 'MoonAvoidance @6106469712', 'AltAzShadowMask @6106470384', 'VisitGap @6106470720', 'AvoidDirectWind @6106471392']\n",
      "detailers ['ZeroRotDetailer', 'TrackingInfoDetailer', 'BandToFilterDetailer']\n",
      "\n",
      " TIER 1\n",
      "IMG:Photo08000-1 [2.13802833] [-0.63162981] // target Photo08000-1 // block BLOCK-306 // note IMG:Photo08000-1\n",
      "basis_functions ['MoonAvoidance @6075734032', 'AltAzShadowMask @6075734352', 'VisitGap @6106527248', 'AvoidDirectWind @6106527888']\n",
      "seqlen 8 detailers ['DitherDetailer', 'TrackingInfoDetailer', 'BandToFilterDetailer']\n",
      "CANDIDATE:HD111980 [3.37393961] [-0.32327376] // target HD111980 // block BLOCK-311 // note CANDIDATE:HD111980\n",
      "basis_functions ['MoonAvoidance @6084690000', 'AltAzShadowMask @6084690320', 'VisitGap @6084690640']\n",
      "seqlen 5 detailers ['TrackingInfoDetailer', 'BandToFilterDetailer']\n",
      "\n",
      " TIER 2\n",
      "STANDARD:HD38666 [1.5097098] [-0.56385383] // target HD38666 // block BLOCK-312 // note STANDARD:HD38666\n",
      "basis_functions ['MoonAvoidance @6081153184', 'AltAzShadowMask @6081153792', 'VisitGap @6081154096']\n",
      "seqlen 5 detailers ['TrackingInfoDetailer', 'BandToFilterDetailer']\n",
      "\n",
      " TIER 3\n",
      "STANDARD:HD185975 backup [5.3594698] [-1.52667343] // target HD185975 // block BLOCK-311 // note STANDARD:HD185975 backup\n",
      "basis_functions ['MoonAvoidance @6081155920', 'AltAzShadowMask @6081156224', 'VisitGap @6081156528']\n",
      "seqlen 1 detailers ['TrackingInfoDetailer', 'BandToFilterDetailer']\n"
     ]
    }
   ],
   "source": [
    "# Show some information about surveys and tiers\n",
    "for ti, tier in enumerate(scheduler.survey_lists):\n",
    "    print(f\"\\n TIER {ti}\")\n",
    "    for survey in tier:\n",
    "        if ti == 0:\n",
    "            print(survey.survey_name)\n",
    "            print('basis_functions', [bf.label() for bf in survey.basis_functions])\n",
    "            print('detailers', [det.__class__.__name__ for det in survey.detailers])\n",
    "        else:\n",
    "            print(survey.survey_name, survey.ra, survey.dec, '// target',  survey.target_name, '// block',  survey.science_program, '// note', survey.scheduler_note)\n",
    "            print('basis_functions', [bf.label() for bf in survey.basis_functions])\n",
    "            print('seqlen', len(survey.observations), 'detailers',  [det.__class__.__name__ for det in survey.detailers])"
   ]
  },
  {
   "cell_type": "markdown",
   "id": "9f95ae13-fddb-4622-8fe5-3da67f4dd623",
   "metadata": {},
   "source": [
    "### Run the simulation"
   ]
  },
  {
   "cell_type": "code",
   "execution_count": 9,
   "id": "5e96c420-b891-42b4-946d-49a28fc33c4e",
   "metadata": {},
   "outputs": [
    {
     "name": "stderr",
     "output_type": "stream",
     "text": [
      "/Users/lynnej/lsst_repos/rubin_scheduler/rubin_scheduler/skybrightness_pre/sky_model_pre.py:359: UserWarning: Requested MJD between sunrise and sunset, returning closest maps\n",
      "  warnings.warn(\"Requested MJD between sunrise and sunset, returning closest maps\")\n",
      "/Users/lynnej/lsst_repos/rubin_scheduler/rubin_scheduler/skybrightness_pre/sky_model_pre.py:359: UserWarning: Requested MJD between sunrise and sunset, returning closest maps\n",
      "  warnings.warn(\"Requested MJD between sunrise and sunset, returning closest maps\")\n"
     ]
    },
    {
     "name": "stdout",
     "output_type": "stream",
     "text": [
      "Skipped 0 observations\n",
      "Flushed 0 observations from queue for being stale\n",
      "Completed 90 observations\n",
      "ran in 0 min = 0.0 hours\n"
     ]
    },
    {
     "name": "stderr",
     "output_type": "stream",
     "text": [
      "/Users/lynnej/lsst_repos/rubin_scheduler/rubin_scheduler/skybrightness_pre/sky_model_pre.py:359: UserWarning: Requested MJD between sunrise and sunset, returning closest maps\n",
      "  warnings.warn(\"Requested MJD between sunrise and sunset, returning closest maps\")\n"
     ]
    }
   ],
   "source": [
    "# Note that the scheduler and observatory do need to be set up here - they change state as observations are requested and time moves on\n",
    "# If you need to investigate the state of things at a particular point in the night, note the MJD of the failure, then set the sim_duration so that\n",
    "# the simulation stops just at or prior to that point. \n",
    "# Then investigate the surveys and basis functions, using the conditions returned by the observatory at that time.\n",
    "\n",
    "rewards = True \n",
    "\n",
    "obs_examples = []\n",
    "for start_time in [sunset]:\n",
    "    nside, scheduler=get_scheduler()\n",
    "    scheduler.keep_rewards=rewards\n",
    "    \n",
    "    observatory = get_ideal_model_observatory(nside=nside, dayobs = DAYOBS, wind_speed=0, wind_direction=0)\n",
    "    observatory.observatory.setup_camera(band_changetime=5.0, maxspeed=1.5, shutter_2motion_min_time=0.0)\n",
    "    observatory.observatory.setup_telescope(altitude_maxspeed=1.5, azimuth_maxspeed=1.5, settle_time=5.0)\n",
    "    observatory.observatory.setup_dome(azimuth_maxspeed=3.0)\n",
    "    observatory.mjd = start_time.mjd\n",
    "\n",
    "    # Catch the RuntimeWarning this particular setup is issuing due to calc_reward_function not expecting all nans\n",
    "    with warnings.catch_warnings():\n",
    "        warnings.simplefilter(\"ignore\", RuntimeWarning)\n",
    "        vals = sim_runner(\n",
    "            observatory,\n",
    "            scheduler,\n",
    "            sim_duration=survey_length,\n",
    "            record_rewards=rewards,\n",
    "            verbose=True,\n",
    "        )\n",
    "    observatory = vals[0]\n",
    "    scheduler = vals[1]\n",
    "    observations = vals[2]\n",
    "    if len(vals) == 5:\n",
    "        rewards = vals[3]\n",
    "        obs_rewards = vals[4]\n",
    "    obs_examples.append(observations)"
   ]
  },
  {
   "cell_type": "code",
   "execution_count": 10,
   "id": "0141b4d2-1133-4c98-968f-dd52e1f36d6a",
   "metadata": {},
   "outputs": [],
   "source": [
    "# If more debugging at a particular time is desired\n",
    "\n",
    "# nside, scheduler = get_scheduler()\n",
    "# observatory = get_ideal_model_observatory(nside=nside, dayobs = DAYOBS, wind_speed=0, wind_direction=0)\n",
    "# observatory.observatory.setup_camera(band_changetime=5.0, maxspeed=1.5, shutter_2motion_min_time=0.0)\n",
    "# observatory.observatory.setup_telescope(altitude_maxspeed=1.5, azimuth_maxspeed=1.5, settle_time=5.0)\n",
    "# observatory.observatory.setup_dome(azimuth_maxspeed=3.0)\n",
    "# observatory.mjd = sunset.mjd\n",
    "\n",
    "# conditions = observatory.return_conditions()\n",
    "\n",
    "# test_observations = []\n",
    "# scheduler.update_conditions(conditions)\n",
    "# obs = scheduler.request_observation(mjd=observatory.mjd, whole_queue=True)\n",
    "# if obs is not None:\n",
    "#     for o in obs:\n",
    "#         observation, new_night = observatory.observe(o)\n",
    "#         if observation is not None:\n",
    "#             scheduler.add_observation(observation)\n",
    "#             test_observations += [observation]\n",
    "\n",
    "# Or look at survey basis functions at a particular time\n",
    "# conditions = observatory.return_conditions()\n",
    "# for ti, tier in enumerate(scheduler.survey_lists):\n",
    "#     print(f\"TIER {ti}\")\n",
    "#     for survey in tier:\n",
    "#         print(survey.survey_name)\n",
    "#         for bf in survey.basis_functions:\n",
    "#             bf_values = bf(conditions)\n",
    "#             if isinstance(bf_values, float):\n",
    "#                 print(bf.label(), bf.check_feasibility(conditions), bf_values)\n",
    "#             else:\n",
    "#                 print(bf.label(), bf.check_feasibility(conditions), np.nanmax(bf_values[survey.roi_hpid]))\n",
    "#         print('total survey reward', np.nanmax(survey.calc_reward_function(conditions)))"
   ]
  },
  {
   "cell_type": "markdown",
   "id": "4256add8-5e53-4dae-b4ca-17d5faec0052",
   "metadata": {},
   "source": [
    "### Investigate the reward values throughout the night. \n",
    "\n",
    "The survey with the largest reward *in its tier* will be the \"winner\". Lower tiers will win over higher tiers.\n",
    "Because the basis functions for most of the surveys are simply masks, these reward values will generally be flat across the night, with interruptions for visit gaps. Adjust the 'priority' to adjust the overall reward for a target up or down. "
   ]
  },
  {
   "cell_type": "code",
   "execution_count": 11,
   "id": "c587a241-397e-4bbd-893d-0bc7cdeeee57",
   "metadata": {},
   "outputs": [
    {
     "name": "stderr",
     "output_type": "stream",
     "text": [
      "/var/folders/tr/bjzqy0h17kx31fhndw6050d80000gn/T/ipykernel_21399/1967778514.py:20: PerformanceWarning: indexing past lexsort depth may impact performance.\n",
      "  s = survey_rewards_df.loc[index]\n"
     ]
    },
    {
     "data": {
      "text/plain": [
       "(60731.01025687298, 60731.40113522438)"
      ]
     },
     "execution_count": 11,
     "metadata": {},
     "output_type": "execute_result"
    },
    {
     "data": {
      "image/png": "[encoded data removed]",
      "text/plain": [
       "<Figure size 800x500 with 1 Axes>"
      ]
     },
     "metadata": {},
     "output_type": "display_data"
    }
   ],
   "source": [
    "survey_rewards_df = (\n",
    "        rewards.groupby([\"list_index\", \"survey_index\", \"queue_start_mjd\", \"queue_fill_mjd_ns\"])\n",
    "        .agg(\n",
    "            {\n",
    "                \"tier_label\": \"first\",\n",
    "                \"survey_label\": \"first\",\n",
    "                \"survey_class\": \"first\",\n",
    "                \"survey_reward\": \"first\",\n",
    "                \"feasible\": \"all\",\n",
    "            }\n",
    "        )\n",
    "        .loc[:, [\"tier_label\", \"survey_label\", \"survey_class\", \"survey_reward\", \"feasible\"]]\n",
    "        .reset_index(level=[\"queue_start_mjd\", \"queue_fill_mjd_ns\"])\n",
    "        .query(f\"floor(queue_start_mjd-0.5)=={day_obs_mjd}\")\n",
    "        .sort_index(ascending=False)\n",
    "    )\n",
    "plt.figure(figsize=(8, 5))\n",
    "\n",
    "for index in survey_rewards_df.index.unique():\n",
    "    s = survey_rewards_df.loc[index]\n",
    "    plt.plot(s.queue_start_mjd.values, s.survey_reward.values, label=s['survey_label'].iloc[0])\n",
    "plt.legend(loc=(1.01, 0.3))\n",
    "plt.xlim(sunset.mjd, sunrise.mjd)"
   ]
  },
  {
   "cell_type": "markdown",
   "id": "e4068832-2dbe-4144-884f-56529c709bef",
   "metadata": {},
   "source": [
    "### Plot the airmass distribution of the observations per target"
   ]
  },
  {
   "cell_type": "code",
   "execution_count": 12,
   "id": "efb08d1a-33c4-4359-a758-509317681f81",
   "metadata": {},
   "outputs": [
    {
     "data": {
      "image/png": "[encoded data removed]",
      "text/plain": [
       "<Figure size 800x500 with 1 Axes>"
      ]
     },
     "metadata": {},
     "output_type": "display_data"
    }
   ],
   "source": [
    "plt.figure(figsize=(8, 5))\n",
    "for scheduler_note in np.unique(observations['scheduler_note']):\n",
    "    match = np.where(observations['scheduler_note'] == scheduler_note)\n",
    "    plt.plot(observations[match]['mjd'], observations[match]['airmass'], marker='.', linestyle='', label=scheduler_note)\n",
    "plt.xlim(sunset.mjd, sunrise.mjd)\n",
    "plt.ylim(2.3, 0.9)\n",
    "plt.legend(loc=(1.0, 0.3))\n",
    "plt.xlabel(\"Time (MJD)\")\n",
    "plt.ylabel(\"Airmass\")\n",
    "plt.grid(alpha=0.3)"
   ]
  },
  {
   "cell_type": "markdown",
   "id": "d1b536ff-e509-4ddb-8dc8-0f75848e7c30",
   "metadata": {},
   "source": [
    "###  Some basic stats of the targets"
   ]
  },
  {
   "cell_type": "code",
   "execution_count": 13,
   "id": "2a3d5511-f226-4453-a3a0-11d7dacf714d",
   "metadata": {},
   "outputs": [
    {
     "data": {
      "text/html": [
       "<div>\n",
       "<style scoped>\n",
       "    .dataframe tbody tr th:only-of-type {\n",
       "        vertical-align: middle;\n",
       "    }\n",
       "\n",
       "    .dataframe tbody tr th {\n",
       "        vertical-align: top;\n",
       "    }\n",
       "\n",
       "    .dataframe thead th {\n",
       "        text-align: right;\n",
       "    }\n",
       "</style>\n",
       "<table border=\"1\" class=\"dataframe\">\n",
       "  <thead>\n",
       "    <tr style=\"text-align: right;\">\n",
       "      <th></th>\n",
       "      <th>ra</th>\n",
       "      <th>dec</th>\n",
       "      <th>block</th>\n",
       "      <th>exptime</th>\n",
       "      <th>nexp</th>\n",
       "      <th>visit_gap</th>\n",
       "      <th>priority</th>\n",
       "      <th>min_airmass</th>\n",
       "      <th>max_airmass</th>\n",
       "      <th>airmass_range</th>\n",
       "      <th>timespan_hours</th>\n",
       "      <th>count</th>\n",
       "    </tr>\n",
       "  </thead>\n",
       "  <tbody>\n",
       "    <tr>\n",
       "      <th>HD111980</th>\n",
       "      <td>12:53:15</td>\n",
       "      <td>-18:31:20.0</td>\n",
       "      <td>BLOCK-311</td>\n",
       "      <td>420</td>\n",
       "      <td>5</td>\n",
       "      <td>8</td>\n",
       "      <td>1</td>\n",
       "      <td>1.021349</td>\n",
       "      <td>2.129715</td>\n",
       "      <td>1.108366</td>\n",
       "      <td>6.578109</td>\n",
       "      <td>40.0</td>\n",
       "    </tr>\n",
       "    <tr>\n",
       "      <th>HD38666</th>\n",
       "      <td>05:46:00</td>\n",
       "      <td>-32:18:23.2</td>\n",
       "      <td>BLOCK-312</td>\n",
       "      <td>300</td>\n",
       "      <td>5</td>\n",
       "      <td>8</td>\n",
       "      <td>2</td>\n",
       "      <td>1.004320</td>\n",
       "      <td>1.958524</td>\n",
       "      <td>0.954204</td>\n",
       "      <td>4.296131</td>\n",
       "      <td>30.0</td>\n",
       "    </tr>\n",
       "    <tr>\n",
       "      <th>HD185975</th>\n",
       "      <td>20:28:18</td>\n",
       "      <td>-87:28:19</td>\n",
       "      <td>BLOCK-311</td>\n",
       "      <td>420</td>\n",
       "      <td>1</td>\n",
       "      <td>90</td>\n",
       "      <td>1</td>\n",
       "      <td>1.962097</td>\n",
       "      <td>2.147198</td>\n",
       "      <td>0.185101</td>\n",
       "      <td>9.096994</td>\n",
       "      <td>10.0</td>\n",
       "    </tr>\n",
       "    <tr>\n",
       "      <th>Photo08000-1</th>\n",
       "      <td>08:10:00</td>\n",
       "      <td>-36:11:23</td>\n",
       "      <td>BLOCK-306</td>\n",
       "      <td>35</td>\n",
       "      <td>8</td>\n",
       "      <td>600</td>\n",
       "      <td>1.5</td>\n",
       "      <td>1.129776</td>\n",
       "      <td>1.144794</td>\n",
       "      <td>0.015018</td>\n",
       "      <td>0.080488</td>\n",
       "      <td>8.0</td>\n",
       "    </tr>\n",
       "    <tr>\n",
       "      <th>cwfs</th>\n",
       "      <td>NaN</td>\n",
       "      <td>NaN</td>\n",
       "      <td>NaN</td>\n",
       "      <td>NaN</td>\n",
       "      <td>NaN</td>\n",
       "      <td>NaN</td>\n",
       "      <td>NaN</td>\n",
       "      <td>1.009491</td>\n",
       "      <td>1.050699</td>\n",
       "      <td>0.041208</td>\n",
       "      <td>5.315010</td>\n",
       "      <td>2.0</td>\n",
       "    </tr>\n",
       "    <tr>\n",
       "      <th>HD132096</th>\n",
       "      <td>14:58:36.5</td>\n",
       "      <td>-39:54:25.8</td>\n",
       "      <td>BLOCK-311</td>\n",
       "      <td>420</td>\n",
       "      <td>5</td>\n",
       "      <td>8</td>\n",
       "      <td>1</td>\n",
       "      <td>NaN</td>\n",
       "      <td>NaN</td>\n",
       "      <td>NaN</td>\n",
       "      <td>NaN</td>\n",
       "      <td>NaN</td>\n",
       "    </tr>\n",
       "    <tr>\n",
       "      <th>HD146233</th>\n",
       "      <td>16:15:37</td>\n",
       "      <td>-08:22:10.0</td>\n",
       "      <td>BLOCK-312</td>\n",
       "      <td>300</td>\n",
       "      <td>2</td>\n",
       "      <td>8</td>\n",
       "      <td>1</td>\n",
       "      <td>NaN</td>\n",
       "      <td>NaN</td>\n",
       "      <td>NaN</td>\n",
       "      <td>NaN</td>\n",
       "      <td>NaN</td>\n",
       "    </tr>\n",
       "    <tr>\n",
       "      <th>HD167060</th>\n",
       "      <td>18:17:44</td>\n",
       "      <td>-61:42:31.6</td>\n",
       "      <td>BLOCK-311</td>\n",
       "      <td>420</td>\n",
       "      <td>2</td>\n",
       "      <td>8</td>\n",
       "      <td>1</td>\n",
       "      <td>NaN</td>\n",
       "      <td>NaN</td>\n",
       "      <td>NaN</td>\n",
       "      <td>NaN</td>\n",
       "      <td>NaN</td>\n",
       "    </tr>\n",
       "    <tr>\n",
       "      <th>HD205905</th>\n",
       "      <td>21:39:10</td>\n",
       "      <td>-27:18:23.7</td>\n",
       "      <td>BLOCK-312</td>\n",
       "      <td>300</td>\n",
       "      <td>2</td>\n",
       "      <td>8</td>\n",
       "      <td>1</td>\n",
       "      <td>NaN</td>\n",
       "      <td>NaN</td>\n",
       "      <td>NaN</td>\n",
       "      <td>NaN</td>\n",
       "      <td>NaN</td>\n",
       "    </tr>\n",
       "    <tr>\n",
       "      <th>HD2811</th>\n",
       "      <td>00:31:18</td>\n",
       "      <td>-43:36:23.0</td>\n",
       "      <td>BLOCK-311</td>\n",
       "      <td>420</td>\n",
       "      <td>5</td>\n",
       "      <td>8</td>\n",
       "      <td>1</td>\n",
       "      <td>NaN</td>\n",
       "      <td>NaN</td>\n",
       "      <td>NaN</td>\n",
       "      <td>NaN</td>\n",
       "      <td>NaN</td>\n",
       "    </tr>\n",
       "    <tr>\n",
       "      <th>HD42525</th>\n",
       "      <td>06:06:09</td>\n",
       "      <td>-66:02:23</td>\n",
       "      <td>BLOCK-312</td>\n",
       "      <td>300</td>\n",
       "      <td>2</td>\n",
       "      <td>15</td>\n",
       "      <td>1</td>\n",
       "      <td>NaN</td>\n",
       "      <td>NaN</td>\n",
       "      <td>NaN</td>\n",
       "      <td>NaN</td>\n",
       "      <td>NaN</td>\n",
       "    </tr>\n",
       "    <tr>\n",
       "      <th>HD60753</th>\n",
       "      <td>07:33:27</td>\n",
       "      <td>-50:35:03.3</td>\n",
       "      <td>BLOCK-312</td>\n",
       "      <td>300</td>\n",
       "      <td>2</td>\n",
       "      <td>15</td>\n",
       "      <td>1</td>\n",
       "      <td>NaN</td>\n",
       "      <td>NaN</td>\n",
       "      <td>NaN</td>\n",
       "      <td>NaN</td>\n",
       "      <td>NaN</td>\n",
       "    </tr>\n",
       "    <tr>\n",
       "      <th>HD73495</th>\n",
       "      <td>08:37:52</td>\n",
       "      <td>-26:15:18.0</td>\n",
       "      <td>BLOCK-312</td>\n",
       "      <td>300</td>\n",
       "      <td>2</td>\n",
       "      <td>8</td>\n",
       "      <td>1</td>\n",
       "      <td>NaN</td>\n",
       "      <td>NaN</td>\n",
       "      <td>NaN</td>\n",
       "      <td>NaN</td>\n",
       "      <td>NaN</td>\n",
       "    </tr>\n",
       "  </tbody>\n",
       "</table>\n",
       "</div>"
      ],
      "text/plain": [
       "                      ra          dec      block exptime nexp visit_gap  \\\n",
       "HD111980        12:53:15  -18:31:20.0  BLOCK-311     420    5         8   \n",
       "HD38666         05:46:00  -32:18:23.2  BLOCK-312     300    5         8   \n",
       "HD185975        20:28:18    -87:28:19  BLOCK-311     420    1        90   \n",
       "Photo08000-1    08:10:00    -36:11:23  BLOCK-306      35    8       600   \n",
       "cwfs                 NaN          NaN        NaN     NaN  NaN       NaN   \n",
       "HD132096      14:58:36.5  -39:54:25.8  BLOCK-311     420    5         8   \n",
       "HD146233        16:15:37  -08:22:10.0  BLOCK-312     300    2         8   \n",
       "HD167060        18:17:44  -61:42:31.6  BLOCK-311     420    2         8   \n",
       "HD205905        21:39:10  -27:18:23.7  BLOCK-312     300    2         8   \n",
       "HD2811          00:31:18  -43:36:23.0  BLOCK-311     420    5         8   \n",
       "HD42525         06:06:09    -66:02:23  BLOCK-312     300    2        15   \n",
       "HD60753         07:33:27  -50:35:03.3  BLOCK-312     300    2        15   \n",
       "HD73495         08:37:52  -26:15:18.0  BLOCK-312     300    2         8   \n",
       "\n",
       "             priority  min_airmass  max_airmass  airmass_range  \\\n",
       "HD111980            1     1.021349     2.129715       1.108366   \n",
       "HD38666             2     1.004320     1.958524       0.954204   \n",
       "HD185975            1     1.962097     2.147198       0.185101   \n",
       "Photo08000-1      1.5     1.129776     1.144794       0.015018   \n",
       "cwfs              NaN     1.009491     1.050699       0.041208   \n",
       "HD132096            1          NaN          NaN            NaN   \n",
       "HD146233            1          NaN          NaN            NaN   \n",
       "HD167060            1          NaN          NaN            NaN   \n",
       "HD205905            1          NaN          NaN            NaN   \n",
       "HD2811              1          NaN          NaN            NaN   \n",
       "HD42525             1          NaN          NaN            NaN   \n",
       "HD60753             1          NaN          NaN            NaN   \n",
       "HD73495             1          NaN          NaN            NaN   \n",
       "\n",
       "              timespan_hours  count  \n",
       "HD111980            6.578109   40.0  \n",
       "HD38666             4.296131   30.0  \n",
       "HD185975            9.096994   10.0  \n",
       "Photo08000-1        0.080488    8.0  \n",
       "cwfs                5.315010    2.0  \n",
       "HD132096                 NaN    NaN  \n",
       "HD146233                 NaN    NaN  \n",
       "HD167060                 NaN    NaN  \n",
       "HD205905                 NaN    NaN  \n",
       "HD2811                   NaN    NaN  \n",
       "HD42525                  NaN    NaN  \n",
       "HD60753                  NaN    NaN  \n",
       "HD73495                  NaN    NaN  "
      ]
     },
     "execution_count": 13,
     "metadata": {},
     "output_type": "execute_result"
    }
   ],
   "source": [
    "obs = pd.DataFrame(observations)\n",
    "# quick hack to get 'cwfs' into the target_name field for the CWFS survey, just for making this table look cleaner\n",
    "cwfs_obs = np.where(obs['scheduler_note'] == \"cwfs\")[0]\n",
    "target_col = np.where(obs.columns == \"target_name\")[0]\n",
    "obs.iloc[cwfs_obs, target_col] = 'cwfs'\n",
    "\n",
    "# Count up some basic stats about the airmass and number of observations\n",
    "stats = obs.groupby('target_name').agg(min_airmass = ('airmass', 'min'), max_airmass = ('airmass', 'max'),\n",
    "                                           airmass_range = ('airmass', np.ptp), timespan_hours = ('mjd', np.ptp), count=('mjd', 'count'))\n",
    "stats['timespan_hours'] *= 24\n",
    "stats = pd.merge(dd, stats, left_index=True, right_index=True, how='outer')\n",
    "stats.sort_values(by='count', ascending=False)"
   ]
  },
  {
   "cell_type": "markdown",
   "id": "80c16e4d-77c8-4f28-8762-26933614ebd0",
   "metadata": {},
   "source": [
    "If this looks reasonable - then let's try this configuration. \n",
    "However, you may want to restrict targets on a particular night to a subset of the total -- go to the `ts_config_ocs/Scheduler/auxtel/fbs_spec_flex_survey.py` file (in your copy of the repo) and edit the lists of targets (spectropy_priority_targets and imaging_priority_targets, most likely). \n",
    "Or, you may want to change which target is the focus for a particular night -- go to the `ts_fbs_utils/python/lsst/ts/fbs/utils/data/auxtel_targets.yaml` file (in your copy of the repo) and edit things like the `nexp`, `visit_gap`, and `priority` values (a focus target probably wants longer sequences, so larger nexp values and/or shorter visit_gap, and higher priority). \n",
    "See if it starts doing what you want, and please come ask me more questions! \n",
    "I know this isn't perfect, but I'm hopeful it gets you most of what you need while also being easy to modify."
   ]
  },
  {
   "cell_type": "code",
   "execution_count": 17,
   "id": "778af35d-d333-42e3-bc5a-8c625909257a",
   "metadata": {},
   "outputs": [
    {
     "data": {
      "text/html": [
       "<div>\n",
       "<style scoped>\n",
       "    .dataframe tbody tr th:only-of-type {\n",
       "        vertical-align: middle;\n",
       "    }\n",
       "\n",
       "    .dataframe tbody tr th {\n",
       "        vertical-align: top;\n",
       "    }\n",
       "\n",
       "    .dataframe thead th {\n",
       "        text-align: right;\n",
       "    }\n",
       "</style>\n",
       "<table border=\"1\" class=\"dataframe\">\n",
       "  <thead>\n",
       "    <tr style=\"text-align: right;\">\n",
       "      <th></th>\n",
       "      <th>observationStartMJD</th>\n",
       "      <th>fieldRA</th>\n",
       "      <th>fieldDec</th>\n",
       "      <th>target_name</th>\n",
       "      <th>science_program</th>\n",
       "      <th>airmass</th>\n",
       "      <th>visitExposureTime</th>\n",
       "    </tr>\n",
       "  </thead>\n",
       "  <tbody>\n",
       "    <tr>\n",
       "      <th>0</th>\n",
       "      <td>60731.010364</td>\n",
       "      <td>88.910050</td>\n",
       "      <td>-22.418126</td>\n",
       "      <td>None</td>\n",
       "      <td>BLOCK-305</td>\n",
       "      <td>1.009491</td>\n",
       "      <td>30.0</td>\n",
       "    </tr>\n",
       "    <tr>\n",
       "      <th>1</th>\n",
       "      <td>60731.012144</td>\n",
       "      <td>122.554238</td>\n",
       "      <td>-36.159018</td>\n",
       "      <td>Photo08000-1</td>\n",
       "      <td>BLOCK-306</td>\n",
       "      <td>1.144794</td>\n",
       "      <td>35.0</td>\n",
       "    </tr>\n",
       "    <tr>\n",
       "      <th>2</th>\n",
       "      <td>60731.012623</td>\n",
       "      <td>122.560925</td>\n",
       "      <td>-36.190501</td>\n",
       "      <td>Photo08000-1</td>\n",
       "      <td>BLOCK-306</td>\n",
       "      <td>1.139360</td>\n",
       "      <td>35.0</td>\n",
       "    </tr>\n",
       "    <tr>\n",
       "      <th>3</th>\n",
       "      <td>60731.013100</td>\n",
       "      <td>122.555987</td>\n",
       "      <td>-36.188417</td>\n",
       "      <td>Photo08000-1</td>\n",
       "      <td>BLOCK-306</td>\n",
       "      <td>1.137806</td>\n",
       "      <td>35.0</td>\n",
       "    </tr>\n",
       "    <tr>\n",
       "      <th>4</th>\n",
       "      <td>60731.013580</td>\n",
       "      <td>122.531842</td>\n",
       "      <td>-36.228871</td>\n",
       "      <td>Photo08000-1</td>\n",
       "      <td>BLOCK-306</td>\n",
       "      <td>1.136125</td>\n",
       "      <td>35.0</td>\n",
       "    </tr>\n",
       "  </tbody>\n",
       "</table>\n",
       "</div>"
      ],
      "text/plain": [
       "   observationStartMJD     fieldRA   fieldDec   target_name science_program  \\\n",
       "0         60731.010364   88.910050 -22.418126          None       BLOCK-305   \n",
       "1         60731.012144  122.554238 -36.159018  Photo08000-1       BLOCK-306   \n",
       "2         60731.012623  122.560925 -36.190501  Photo08000-1       BLOCK-306   \n",
       "3         60731.013100  122.555987 -36.188417  Photo08000-1       BLOCK-306   \n",
       "4         60731.013580  122.531842 -36.228871  Photo08000-1       BLOCK-306   \n",
       "\n",
       "    airmass  visitExposureTime  \n",
       "0  1.009491               30.0  \n",
       "1  1.144794               35.0  \n",
       "2  1.139360               35.0  \n",
       "3  1.137806               35.0  \n",
       "4  1.136125               35.0  "
      ]
     },
     "execution_count": 17,
     "metadata": {},
     "output_type": "execute_result"
    }
   ],
   "source": [
    "# If you want a view that is the same as the Opsim output format .. (and quantities in degrees) .. \n",
    "from rubin_scheduler.scheduler.utils import SchemaConverter\n",
    "visits = SchemaConverter().obs2opsim(observations)\n",
    "pd.DataFrame(visits)[['observationStartMJD', 'fieldRA', 'fieldDec', 'target_name', 'science_program', 'airmass', 'visitExposureTime']].head()"
   ]
  },
  {
   "cell_type": "code",
   "execution_count": null,
   "id": "7aa92fe5-3844-45d9-87d0-2f365f036ec6",
   "metadata": {},
   "outputs": [],
   "source": []
  }
 ],
 "metadata": {
  "kernelspec": {
   "display_name": "Python 3 (ipykernel)",
   "language": "python",
   "name": "python3"
  },
  "language_info": {
   "codemirror_mode": {
    "name": "ipython",
    "version": 3
   },
   "file_extension": ".py",
   "mimetype": "text/x-python",
   "name": "python",
   "nbconvert_exporter": "python",
   "pygments_lexer": "ipython3",
   "version": "3.13.1"
  }
 },
 "nbformat": 4,
 "nbformat_minor": 5
}
