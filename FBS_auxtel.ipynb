{
 "cells": [
  {
   "attachments": {},
   "cell_type": "markdown",
   "id": "a4e4d950-f981-4206-99fe-9ddab288b8ee",
   "metadata": {},
   "source": [
    "# Configuring AuxTel FBS\n",
    "March 2025.\n",
    "\n",
    "## Overview\n",
    "\n",
    "This notebook is intended to help to test configurations of the auxtel scheduler with the [ts_config_ocs/Scheduler/feature_scheduler/auxtel/fbs_spec_flex_survey.py](https://github.com/lsst-ts/ts_config_ocs/blob/develop/Scheduler/feature_scheduler/auxtel/fbs_spec_flex_survey.py) configuration.\n",
    "\n",
    "It loads up the potential targets from the `auxtel_targets.yaml` file in `ts_config_os`, plots their airmass over the night (to help choose the best targets for a given night), then runs the `fbs_spec_flex_survey.py` configuration and shows the targets that would be chosen throughout the night, assuming that the observatory model is accurate and there are no interruptions due to faults or weather. The resulting airmass distribution of the simulated observations is plotted, and a few summary values (total number of observations, airmass range) counted up."
   ]
  },
  {
   "cell_type": "markdown",
   "id": "5b91e79b-494b-48f4-986b-1ab0e4a4b3fa",
   "metadata": {},
   "source": [
    "## FBS Configuration \n",
    "\n",
    "The basic idea in the configuration is that there are a variety of potential spectroscopy and imaging targets in [ts_fbs_utils/python/lsst/ts/fbs/utils/data/auxtel_targets.yaml](https://github.com/lsst-ts/ts_fbs_utils/blob/develop/python/lsst/ts/fbs/utils/data/auxtel_targets.yaml). For each entry, there is basic information on its location (ra/dec) and what JSON BLOCK should be used to observe the target (ideally a reusable, configurable JSON BLOCK, but not all are at that level yet). Along with this basic information, there are some additional entries which serve to help configure the FBS:\n",
    " * nexp - the number of visits in each sequence (aka how many times the JSON BLOCK should be run for each time this target hits the top of the FBS queue).\n",
    " * visit_gap - the amount of time to wait after the last visit in the sequence, before the target could be activated again\n",
    " * exptime - the amount of time to tell the FBS that each visit will take. For imaging this is straightforward (more or less exposure time), but for spectroscopy it should include the total time to run the imaging portions of the JSON BLOCK.\n",
    " * priority - a number to weight the reward functions for this target\n",
    " * ha_limits - there are default HA limits to avoid trying to observe near transit, but these can also be set per target in the yaml file. (this is to help avoid issues with the rotator angles during overslew, near transit in particular)\n",
    "\n",
    "This configuration for auxtel imaging + spectroscopy is fairly simple -- each target matches a different survey (and sometimes two surveys, if it is both a priority and a backup target). And each survey has a fairly simple set of basis functions, which are primarily masks:\n",
    " * AvoidDirectWind - stay away from pointing into the wind, depending on the value of `wind_speed_maximum` (a large value for wind_speed_maximum will essentially turn this off)\n",
    " * MoonAvoidance - don't point closer than 30 degrees toward the moon. The size of the moon avoidance region could be modified, but this is the default.\n",
    " * AltAzShadowMask - this masks parts of the sky which are inaccessible. The default is to just mask below 26 degrees in altitude and above 85 degrees in altitude. There are more options available, if desired.\n",
    " * VisitGap - this causes the survey to count itself as unavailable after a sequence is acquired, until the `visit_gap` time (in minutes) has expired.\n",
    "For some of the backup surveys, it may be desirable to include slew time basis functions .. but in general, the current setup makes it easy to cycle through a limited set of targets, simply by setting the visit_gap and priority appropriately.\n",
    "\n",
    "For example, consider a scheduler set up with two targets, of equal priority, each with nexp = 4 and exptime = 300. Assume neither are close to the moon, get masked by wind, or fall into altitude avoidance zones, so at no point is either target unavailable (this, of course, will vary for real targets and conditions). In this case, IF there was no visit gap, random chance would pick one targets at the start of the night, take 4 visits each of exptime 300, and then after 1200 seconds (20 minutes), random chance would again pick between the two targets for a second 20 minutes, and on and on. Perhaps one target would 'win' the whole night, or perhaps it would vary. If one target was indicated to be a higher priority (`priority` set to 1.2 instead of the default 1), then that target would \"win\" for the entire night. However, if the goal was to cycle between these two targets every 20 minutes, then simply add a value for the `visit_gap` for each survey of about 15 minutes -- this would ensure that after a sequence was acquired for one target, the other target would be acquired next .. by the time the sequence for the second target is finished, the first target would be available again while the second was masked. The result would be alternating between the targets every twenty minutes. For a quicker alternation between targets, set a shorter sequence (nexp = 2 and visit_gap = 8 would result in about a 10 minute cadence,  etc). \n",
    "\n",
    "With more targets, this becomes more complicated, but an alternating series can be set up just using nexp, visit_gap, and exptime appropriately. Priority (especially combined with larger nexp or shorter visit_gap) can cause one target to be favored over the others, such as for a target chosen for more detailed study in a given night.\n",
    "\n",
    "In addition, subsets of the total number of available targest in `auxtel_targets.yaml` can be chosen in the lists for `imaging_priority_targets`, `imaging_backup_targets`, `spectroscopy_priority_targets`, `spectroscopy_standard_targets` and `spectroscopy_backup_targets`. \n",
    "The imaging priority and spectroscopy priority targets are placed together in tier 1 (currently - could be modified to make these separate tiers), then spectroscopy_standard in tier2, then spectroscopy_backup goes into tier 3 and imaging_backup in tier 3. Tier 0 is the CWFS survey, set up to trigger every 2 hours on a point on the sky close to where observing is currently occuring. \n",
    "\n",
    "Remember that \"tiers\" of the FBS work like this: within a given tier, surveys are weighed against each other and whichever has the highest reward \"wins\" in that tier. However, the lowest tier will win against any survey in a higher tier -- if the tier 0 surveys *can* possibly execute, they will. Likewise, if tier 0 cannot, but tier 1 can - one of the tier 1 surveys will execute. A lower priority (larger number) tier will never execute if anything in a higher priority tier is viable. "
   ]
  },
  {
   "cell_type": "markdown",
   "id": "cb21774f-924c-4a02-ab9b-6c38f74e7523",
   "metadata": {},
   "source": [
    "## Running this notebook\n",
    "\n",
    "Technical setup requirements: `rubin_scheduler` must be installed, along with its data. You will also need `ts_fbs_utils` installed (a pip developer installation would be best), and a git clone of the `ts_config_ocs` repo.  \n",
    "Short instructions for the full process, but note that some pieces can be skipped in some locations. \n",
    "\n",
    "* Install rubin_scheduler (you may want to make a new conda environment first) if needed. On the RSPs, `rubin_scheduler` is already installed, so you can skip this step. You want 3.4.0 or later, to match summit (hopefully soon 3.5.0). <br>\n",
    "  ```conda install -c conda-forge rubin-scheduler```  <br> More details are available at the [installation instructions](https://rubin-scheduler.lsst.io/installation.html) if needed.\n",
    "  \n",
    "* Make sure the rubin_scheduler data is available. On the USDF RSP, setting <br> ```os.environ[\"RUBIN_SIM_DATA_DIR\"] = \"/sdf/data/rubin/shared/rubin_sim_data\"``` <br>\n",
    "will make the data available from a shared location. <br> In other locations (including other RSPs), follow the [data download instructions](https://rubin-scheduler.lsst.io/data-download.html#data-download) and add the environment variable to point to the download location. <br> ```export RUBIN_SIM_DATA_DIR=\"/my/preferred/data/path\" <br> scheduler_download_data``` <br> For just the skybrightness files relevant to the current time, skip `rs_download_sky` and just download [60658-60871.h5](https://s3df.slac.stanford.edu/data/rubin/sim-data/sims_skybrightness_pre/h5_2023_09_12/60658_60871.h5) into the `$RUBIN_SIM_DATA_DIR/skybrightness_pre` directory.\n",
    "\n",
    "* Choose the location to save your copy of the `ts_fbs_utils` and `ts_config_ocs` repositories, then git clone both [ts_fbs_utils](https://github.com/lsst-ts/ts_fbs_utils) and [ts_config_ocs](https://github.com/lsst-ts/ts_config_ocs)\n",
    "\n",
    "* Change into the `ts_fbs_utils` repository and ensure that your conda environment with rubin-scheduler is active, then: <br> ```pip install -e . --no-deps```\n",
    "\n",
    "* Make a link to the FBS configuration file from the directory where you are running this notebook, so that it's easy to import. <br> ```ln -s ts_config_ocs/Schedulerfeature_scheduler/auxtel/fbs_spec_flex_survey.py .```\n",
    "\n",
    "Edits to the auxtel_targets.yaml file in `ts_fbs_utils` or the FBS configuration file in `ts_config_ocs` should now be picked up whenever you restart the notebook, to explore different options for the configuration."
   ]
  },
  {
   "cell_type": "code",
   "execution_count": 1,
   "id": "4b0d1317-3837-48c9-b0cb-f6715e2ce324",
   "metadata": {},
   "outputs": [],
   "source": [
    "# Import the needed packages\n",
    "\n",
    "import os\n",
    "import warnings\n",
    "import numpy as np\n",
    "import pandas as pd\n",
    "import matplotlib.pyplot as plt\n",
    "import colorcet\n",
    "from IPython.display import display, Markdown, HTML\n",
    "\n",
    "from astropy.coordinates import SkyCoord, Angle\n",
    "from astropy.time import Time, TimeDelta\n",
    "import astropy.units as u\n",
    "import astropy\n",
    "astropy.utils.iers.conf.iers_degraded_accuracy = 'ignore'\n",
    "\n",
    "from zoneinfo import ZoneInfo\n",
    "\n",
    "timezone = \"Chile/Continental\"\n",
    "tz = ZoneInfo(timezone)\n",
    "tz_utc = ZoneInfo(\"UTC\")\n",
    "\n",
    "from astroplan import FixedTarget, Observer\n",
    "from astroplan.plots import plot_airmass, plot_parallactic\n",
    "\n",
    "from rubin_scheduler.scheduler import sim_runner\n",
    "from rubin_scheduler.site_models import Almanac\n",
    "from rubin_scheduler.utils import Site\n",
    "from rubin_scheduler.scheduler.surveys import FieldSurvey\n",
    "from rubin_scheduler.scheduler.model_observatory import ModelObservatory\n",
    "\n",
    "from lsst.ts.fbs.utils.auxtel.surveys import get_auxtel_targets\n",
    "from lsst.ts.fbs.utils import Target\n",
    "import skyproj\n",
    "\n",
    "# Import the 'get_scheduler' from the ts_config_ocs configuration file - ts_config_ocs/Scheduler/feature_scheduler/auxtel/<filename>\n",
    "# Easiest way to import get_scheduler is to either link that file to your current directory, or run this notebook in that directory\n",
    "from fbs_spec_flex_survey import get_scheduler\n",
    "\n",
    "# If running on the USDF, find rubin_scheduler data here:\n",
    "if \"usdf\" in os.getenv(\"EXTERNAL_INSTANCE_URL\", \"\"):\n",
    "    os.environ[\"RUBIN_SIM_DATA_DIR\"] = \"/sdf/data/rubin/shared/rubin_sim_data\""
   ]
  },
  {
   "cell_type": "markdown",
   "id": "144b5845-9971-4aab-9869-ecade8a50e0e",
   "metadata": {},
   "source": [
    "## Choose night for the simulation"
   ]
  },
  {
   "cell_type": "code",
   "execution_count": 2,
   "id": "fa9cde7a-2c4c-4688-8482-c33470cd2746",
   "metadata": {},
   "outputs": [
    {
     "data": {
      "text/markdown": [
       "## Almanac information for dayobs 2025-03-24"
      ],
      "text/plain": [
       "<IPython.core.display.Markdown object>"
      ]
     },
     "metadata": {},
     "output_type": "display_data"
    },
    {
     "data": {
      "text/markdown": [
       "12-deg sunset at 03/24/25 22:44:48 UTC  -- 03/24/25 19:44:48 Chile/Continental"
      ],
      "text/plain": [
       "<IPython.core.display.Markdown object>"
      ]
     },
     "metadata": {},
     "output_type": "display_data"
    },
    {
     "data": {
      "text/markdown": [
       "12-deg sunrise at 03/25/25 10:53:33 UTC --  03/25/25 07:53:33 Chile/Continental"
      ],
      "text/plain": [
       "<IPython.core.display.Markdown object>"
      ]
     },
     "metadata": {},
     "output_type": "display_data"
    },
    {
     "data": {
      "text/markdown": [
       "allowing for a night of 12.15 hours"
      ],
      "text/plain": [
       "<IPython.core.display.Markdown object>"
      ]
     },
     "metadata": {},
     "output_type": "display_data"
    },
    {
     "data": {
      "text/markdown": [
       "Moonrise is at 03/25/25 06:29:35 UTC -- 03/25/25 03:29:35 Chile/Continental"
      ],
      "text/plain": [
       "<IPython.core.display.Markdown object>"
      ]
     },
     "metadata": {},
     "output_type": "display_data"
    },
    {
     "data": {
      "text/markdown": [
       "Moonset at 03/25/25 20:30:59 UTC -- 03/25/25 17:30:59 Chile/Continental"
      ],
      "text/plain": [
       "<IPython.core.display.Markdown object>"
      ]
     },
     "metadata": {},
     "output_type": "display_data"
    },
    {
     "data": {
      "text/markdown": [
       "Moon phase is 33.8 (0=new, 100=full)."
      ],
      "text/plain": [
       "<IPython.core.display.Markdown object>"
      ]
     },
     "metadata": {},
     "output_type": "display_data"
    },
    {
     "data": {
      "text/markdown": [
       "Moon location at RA 20:26:32.40624249, Dec -22:43:37.42242217"
      ],
      "text/plain": [
       "<IPython.core.display.Markdown object>"
      ]
     },
     "metadata": {},
     "output_type": "display_data"
    }
   ],
   "source": [
    "# What night do you want to simulate? \n",
    "day_obs = '2025-03-24'\n",
    "day_obs_mjd = int(Time(day_obs).mjd)\n",
    "site = Site('LSST')\n",
    "almanac = Almanac()\n",
    "night_events = almanac.get_sunset_info(evening_date=day_obs, longitude=site.longitude_rad)\n",
    "civil_sunset = Time(night_events['sunset'], format='mjd', scale='utc')\n",
    "sunset = Time(night_events['sunset'], format='mjd', scale='utc') \n",
    "sunrise = Time(night_events['sunrise'], format='mjd', scale='utc') \n",
    "sunset_12 = Time(night_events['sun_n12_setting'], format='mjd', scale='utc') \n",
    "sunrise_12 = Time(night_events['sun_n12_rising'], format='mjd', scale='utc')\n",
    "survey_length = sunrise.mjd - sunset.mjd\n",
    "night_length = sunrise.mjd - sunset.mjd\n",
    "\n",
    "display(Markdown(f\"## Almanac information for dayobs {day_obs}\"))\n",
    "\n",
    "display(Markdown(f\"12-deg sunset at {sunset.to_datetime(timezone=tz_utc).strftime('%x %X')} UTC  -- {sunset.to_datetime(timezone=tz).strftime('%x %X')} {timezone}\"))\n",
    "display(Markdown(f\"12-deg sunrise at {sunrise.to_datetime(timezone=tz_utc).strftime('%x %X')} UTC --  {sunrise.to_datetime(timezone=tz).strftime('%x %X')} {timezone}\"))\n",
    "display(Markdown(f\"allowing for a night of {night_length * 24 :.2f} hours\"))\n",
    "moon_phase = almanac.get_sun_moon_positions(sunset.mjd)['moon_phase']\n",
    "if not np.isnan(night_events['moonrise']):\n",
    "    moonrise = Time(night_events['moonrise'], format='mjd', scale='utc')\n",
    "    display(Markdown(f\"Moonrise is at {moonrise.to_datetime(timezone=tz_utc).strftime('%x %X')} UTC -- {moonrise.to_datetime(timezone=tz).strftime('%x %X')} {timezone}\"))\n",
    "if not np.isnan(night_events['moonset']):\n",
    "    moonset = Time(night_events['moonset'], format='mjd', scale='utc')\n",
    "    display(Markdown(f\"Moonset at {moonset.to_datetime(timezone=tz_utc).strftime('%x %X')} UTC -- {moonset.to_datetime(timezone=tz).strftime('%x %X')} {timezone}\"))\n",
    "display(Markdown(f\"Moon phase is {moon_phase :.1f} (0=new, 100=full).\"))\n",
    "display(Markdown(f\"Moon location at RA {Angle(almanac.get_sun_moon_positions(sunset.mjd)['moon_RA'][0] * u.rad).to_string(unit=u.hour, sep=':')}, \"\n",
    "                 f\"Dec {Angle(almanac.get_sun_moon_positions(sunset.mjd)['moon_dec'] * u.rad).to_string(unit=u.degree, sep=':')}\"))"
   ]
  },
  {
   "cell_type": "markdown",
   "id": "9d43c204-3e5c-4e3e-ac73-83b5195d006b",
   "metadata": {},
   "source": [
    "## Set up Scheduler"
   ]
  },
  {
   "cell_type": "code",
   "execution_count": 3,
   "id": "a239dbba-1d4a-4c4f-81ff-a5027da6c44e",
   "metadata": {},
   "outputs": [
    {
     "name": "stderr",
     "output_type": "stream",
     "text": [
      "/Users/lynnej/lsst_repos/rubin_scheduler/rubin_scheduler/scheduler/basis_functions/basis_functions.py:956: FutureWarning: filtername deprecated in favor of bandname\n",
      "  warnings.warn(\"filtername deprecated in favor of bandname\", FutureWarning)\n",
      "/Users/lynnej/lsst_repos/rubin_scheduler/rubin_scheduler/scheduler/basis_functions/basis_functions.py:1329: FutureWarning: filter_names deprecated in favor of band_names\n",
      "  warnings.warn(\"filter_names deprecated in favor of band_names\", FutureWarning)\n"
     ]
    }
   ],
   "source": [
    "nside, scheduler = get_scheduler()"
   ]
  },
  {
   "cell_type": "code",
   "execution_count": 4,
   "id": "53f80ebc-deac-4c24-98b5-0865194495f9",
   "metadata": {},
   "outputs": [
    {
     "name": "stdout",
     "output_type": "stream",
     "text": [
      "\n",
      " TIER 0\n",
      "cwfs\n",
      "basis_functions ['M5Diff r @4533866848', 'Slewtime g @6115244560', 'Slewtime r @6117056080', 'Slewtime i @6117056400', 'MoonAvoidance @6117544624', 'AltAzShadowMask @6117545968', 'VisitGap @6117545632', 'AvoidDirectWind @6117546304', 'SunAltLimit @6117544960']\n",
      "detailers ['ZeroRotDetailer', 'TrackingInfoDetailer']\n",
      "\n",
      " TIER 1\n",
      "IMG:Photo08000-1 [2.13802833] [-0.63162981] // target Photo08000-1 // block BLOCK-306 // note IMG:Photo08000-1\n",
      "basis_functions ['SunAltLimit @6117058960', 'MoonAvoidance @6117056720', 'AltAzShadowMask @6117057040', 'VisitGap @6117057360', 'AvoidDirectWind @6117060240']\n",
      "seqlen 8 detailers ['DitherDetailer', 'TrackingInfoDetailer']\n",
      "CANDIDATE:HD132096 [3.92091853] [-0.69651145] // target HD132096 // block BLOCK-311 // note CANDIDATE:HD132096\n",
      "basis_functions ['SunAltLimit @6115506816', 'MoonAvoidance @6117853344', 'AltAzShadowMask @6117853648', 'VisitGap @6117853952']\n",
      "seqlen 5 detailers ['FixedSkyAngleDetailer', 'TrackingInfoDetailer']\n",
      "\n",
      " TIER 2\n",
      "CANDIDATE:HD60753 [1.97854887] [-0.88286171] // target HD60753 // block BLOCK-312 // note CANDIDATE:HD60753\n",
      "basis_functions ['SunAltLimit @6115507120', 'MoonAvoidance @6117851216', 'AltAzShadowMask @6117851520', 'VisitGap @6117851824']\n",
      "seqlen 3 detailers ['FixedSkyAngleDetailer', 'TrackingInfoDetailer']\n",
      "STANDARD:HD185975 [5.3594698] [-1.52667343] // target HD185975 // block BLOCK-312 // note STANDARD:HD185975\n",
      "basis_functions ['SunAltLimit @6117009040', 'MoonAvoidance @6117007952', 'AltAzShadowMask @6117002784', 'VisitGap @6117006320']\n",
      "seqlen 3 detailers ['FixedSkyAngleDetailer', 'TrackingInfoDetailer']\n",
      "\n",
      " TIER 3\n",
      "CANDIDATE:HD132096 backup [3.92091853] [-0.69651145] // target HD132096 // block BLOCK-311 // note CANDIDATE:HD132096 backup\n",
      "basis_functions ['SunAltLimit @6117802928', 'MoonAvoidance @6117803216', 'AltAzShadowMask @6117802640', 'VisitGap @6117803504']\n",
      "seqlen 1 detailers ['FixedSkyAngleDetailer', 'TrackingInfoDetailer']\n",
      "STANDARD:HD185975 backup [5.3594698] [-1.52667343] // target HD185975 // block BLOCK-312 // note STANDARD:HD185975 backup\n",
      "basis_functions ['SunAltLimit @6117009856', 'MoonAvoidance @6117010672', 'AltAzShadowMask @6117010944', 'VisitGap @6117011216']\n",
      "seqlen 1 detailers ['FixedSkyAngleDetailer', 'TrackingInfoDetailer']\n",
      "\n",
      " TIER 4\n",
      "IMG:Photo08000-1 backup [2.13802833] [-0.63162981] // target Photo08000-1 // block BLOCK-306 // note IMG:Photo08000-1 backup\n",
      "basis_functions ['SunAltLimit @6117062160', 'MoonAvoidance @6117062480', 'AltAzShadowMask @6117062800', 'VisitGap @6117063120', 'AvoidDirectWind @6117063760', 'Slewtime g @6115506512', 'Slewtime r @6115506208', 'Slewtime i @6117276368']\n",
      "seqlen 1 detailers ['DitherDetailer', 'TrackingInfoDetailer']\n",
      "\n",
      "Active survey targets: ['HD185975', 'Photo08000-1', 'HD60753', 'HD132096']\n"
     ]
    }
   ],
   "source": [
    "# Collect target names as we do this ..\n",
    "active_target_names = []\n",
    "\n",
    "# Show some information about surveys and tiers\n",
    "for ti, tier in enumerate(scheduler.survey_lists):\n",
    "    print(f\"\\n TIER {ti}\")\n",
    "    for survey in tier:\n",
    "        try:\n",
    "            print(survey.survey_name, survey.ra, survey.dec, '// target',  survey.target_name, '// block',  survey.science_program, '// note', survey.scheduler_note)\n",
    "            print('basis_functions', [bf.label() for bf in survey.basis_functions])\n",
    "            print('seqlen', len(survey.observations), 'detailers',  [det.__class__.__name__ for det in survey.detailers])\n",
    "            active_target_names.append(survey.target_name)\n",
    "        except:\n",
    "            print(survey.survey_name)\n",
    "            print('basis_functions', [bf.label() for bf in survey.basis_functions])\n",
    "            print('detailers', [det.__class__.__name__ for det in survey.detailers])\n",
    "            \n",
    "\n",
    "print(\"\")\n",
    "active_target_names = list(set(active_target_names))\n",
    "print(f\"Active survey targets: {active_target_names}\")"
   ]
  },
  {
   "cell_type": "code",
   "execution_count": 5,
   "id": "82b18c8e-9592-4018-9ee3-513ba0a88ba1",
   "metadata": {},
   "outputs": [],
   "source": [
    "# s = scheduler.survey_lists[-2][0]\n",
    "# b = s.basis_functions[-2]\n",
    "# b.__dict__\n",
    "# s.detailers[0].__dict__"
   ]
  },
  {
   "cell_type": "markdown",
   "id": "14781337-3233-4eeb-a2ee-7cf95f9151ee",
   "metadata": {},
   "source": [
    "## Get target pointing information"
   ]
  },
  {
   "cell_type": "code",
   "execution_count": 6,
   "id": "18d8793c-feac-441e-91ab-954d88296910",
   "metadata": {},
   "outputs": [],
   "source": [
    "target_pointings = get_auxtel_targets('auxtel_targets.yaml')\n",
    "\n",
    "targets = []\n",
    "astroplan_targets = []\n",
    "active_astroplan = []\n",
    "for category in target_pointings:\n",
    "    cat = category.split('_')[1].upper()\n",
    "    for target_name in target_pointings[category]:\n",
    "        tt = target_pointings[category][target_name]\n",
    "        target = Target(\n",
    "            target_name=target_name,\n",
    "            survey_name=f\"{cat}:{target_name}\",\n",
    "            science_program=tt[\"block\"],\n",
    "            ra=Angle(tt[\"ra\"], unit=u.hourangle),\n",
    "            dec=Angle(tt[\"dec\"], unit=u.deg),\n",
    "            hour_angle_limit=None,\n",
    "            filters=[\"r\"],\n",
    "            visit_gap=tt.get(\"visit_gap\", 5),\n",
    "            exptime=tt.get(\"exptime\", 300),\n",
    "            nexp=1,\n",
    "            reward_value=tt.get(\"priority\", 1),\n",
    "        )\n",
    "        targets.append(target)\n",
    "\n",
    "        # Make astroplan targets, for airmass plot\n",
    "        atarget = FixedTarget(SkyCoord(ra=Angle(tt[\"ra\"], unit=u.hourangle), dec=Angle(tt[\"dec\"], unit=u.deg)), name=target_name)\n",
    "        astroplan_targets.append(atarget)\n",
    "        if target_name in active_target_names:\n",
    "            active_astroplan.append(atarget)"
   ]
  },
  {
   "cell_type": "code",
   "execution_count": 7,
   "id": "83c30ed9-8718-4d8c-93a6-0d7194c69951",
   "metadata": {},
   "outputs": [
    {
     "name": "stdout",
     "output_type": "stream",
     "text": [
      "auxtel_candidate_catalog_targets ['HD36780', 'HD42525', 'HD60753', 'HD73495', 'HD111980', 'HD132096', 'HD146233', 'HD167060', 'HD205905']\n",
      "auxtel_standard_catalog_targets ['HD2811', 'HD38666', 'HD185975']\n",
      "auxtel_imaging_targets ['Photo08000-1']\n"
     ]
    }
   ],
   "source": [
    "# For easier copy-paste back into the fbs configuration file if needed\n",
    "for category in target_pointings:\n",
    "    print(category, list(target_pointings[category].keys()))"
   ]
  },
  {
   "cell_type": "code",
   "execution_count": 8,
   "id": "3804f432-d16e-4583-9a12-869080ae2767",
   "metadata": {},
   "outputs": [
    {
     "data": {
      "text/html": [
       "<div>\n",
       "<style scoped>\n",
       "    .dataframe tbody tr th:only-of-type {\n",
       "        vertical-align: middle;\n",
       "    }\n",
       "\n",
       "    .dataframe tbody tr th {\n",
       "        vertical-align: top;\n",
       "    }\n",
       "\n",
       "    .dataframe thead th {\n",
       "        text-align: right;\n",
       "    }\n",
       "</style>\n",
       "<table border=\"1\" class=\"dataframe\">\n",
       "  <thead>\n",
       "    <tr style=\"text-align: right;\">\n",
       "      <th></th>\n",
       "      <th>ra</th>\n",
       "      <th>dec</th>\n",
       "      <th>block</th>\n",
       "      <th>exptime</th>\n",
       "      <th>nexp</th>\n",
       "      <th>visit_gap</th>\n",
       "      <th>priority</th>\n",
       "      <th>ra_deg</th>\n",
       "      <th>dec_deg</th>\n",
       "      <th>flip</th>\n",
       "    </tr>\n",
       "  </thead>\n",
       "  <tbody>\n",
       "    <tr>\n",
       "      <th>HD185975</th>\n",
       "      <td>20:28:18</td>\n",
       "      <td>-87:28:19</td>\n",
       "      <td>BLOCK-312</td>\n",
       "      <td>480</td>\n",
       "      <td>3</td>\n",
       "      <td>28</td>\n",
       "      <td>1</td>\n",
       "      <td>307.075000</td>\n",
       "      <td>-87.471944</td>\n",
       "      <td>True</td>\n",
       "    </tr>\n",
       "    <tr>\n",
       "      <th>Photo08000-1</th>\n",
       "      <td>08:10:00</td>\n",
       "      <td>-36:11:23</td>\n",
       "      <td>BLOCK-306</td>\n",
       "      <td>35</td>\n",
       "      <td>8</td>\n",
       "      <td>600</td>\n",
       "      <td>1.5</td>\n",
       "      <td>122.500000</td>\n",
       "      <td>-36.189722</td>\n",
       "      <td>True</td>\n",
       "    </tr>\n",
       "    <tr>\n",
       "      <th>HD60753</th>\n",
       "      <td>07:33:27</td>\n",
       "      <td>-50:35:03.3</td>\n",
       "      <td>BLOCK-312</td>\n",
       "      <td>360</td>\n",
       "      <td>3</td>\n",
       "      <td>24</td>\n",
       "      <td>1</td>\n",
       "      <td>113.362500</td>\n",
       "      <td>-50.584250</td>\n",
       "      <td>True</td>\n",
       "    </tr>\n",
       "    <tr>\n",
       "      <th>HD132096</th>\n",
       "      <td>14:58:36.5</td>\n",
       "      <td>-39:54:25.8</td>\n",
       "      <td>BLOCK-311</td>\n",
       "      <td>480</td>\n",
       "      <td>5</td>\n",
       "      <td>20</td>\n",
       "      <td>1</td>\n",
       "      <td>224.652083</td>\n",
       "      <td>-39.907167</td>\n",
       "      <td>True</td>\n",
       "    </tr>\n",
       "  </tbody>\n",
       "</table>\n",
       "</div>"
      ],
      "text/plain": [
       "                      ra          dec      block exptime nexp visit_gap  \\\n",
       "HD185975        20:28:18    -87:28:19  BLOCK-312     480    3        28   \n",
       "Photo08000-1    08:10:00    -36:11:23  BLOCK-306      35    8       600   \n",
       "HD60753         07:33:27  -50:35:03.3  BLOCK-312     360    3        24   \n",
       "HD132096      14:58:36.5  -39:54:25.8  BLOCK-311     480    5        20   \n",
       "\n",
       "             priority      ra_deg    dec_deg  flip  \n",
       "HD185975            1  307.075000 -87.471944  True  \n",
       "Photo08000-1      1.5  122.500000 -36.189722  True  \n",
       "HD60753             1  113.362500 -50.584250  True  \n",
       "HD132096            1  224.652083 -39.907167  True  "
      ]
     },
     "execution_count": 8,
     "metadata": {},
     "output_type": "execute_result"
    }
   ],
   "source": [
    "# Display target information for double-check on block/exptime/nexp/visit_gap/priority/general proximity to moon\n",
    "target_info = pd.concat([pd.DataFrame(target_pointings[category]).T for category in target_pointings])\n",
    "target_info['ra_deg'] = Angle(target_info['ra'], unit=u.hourangle).deg\n",
    "target_info['dec_deg'] = Angle(target_info['dec'], unit=u.deg).deg\n",
    "# default for flip is True\n",
    "if \"flip\" in target_info.columns:\n",
    "    target_info['flip'] = np.where(target_info['flip'].values == False, False, True)\n",
    "else:\n",
    "    target_info['flip'] = True\n",
    "target_info.loc[active_target_names]"
   ]
  },
  {
   "cell_type": "markdown",
   "id": "0b21ed71-4981-418f-b7da-08ee10030677",
   "metadata": {},
   "source": [
    "### Target Information throughout the night"
   ]
  },
  {
   "cell_type": "code",
   "execution_count": 9,
   "id": "b73ae7a4-3690-49a8-9872-1559f1c02d16",
   "metadata": {},
   "outputs": [
    {
     "name": "stdout",
     "output_type": "stream",
     "text": [
      "2025-03-25 18:08:53.885\n"
     ]
    },
    {
     "name": "stderr",
     "output_type": "stream",
     "text": [
      "WARNING: TimeDeltaMissingUnitWarning: Numerical value without unit or explicit format passed to TimeDelta, assuming days [astropy.time.core]\n"
     ]
    },
    {
     "data": {
      "text/plain": [
       "<matplotlib.legend.Legend at 0x16cadacf0>"
      ]
     },
     "execution_count": 9,
     "metadata": {},
     "output_type": "execute_result"
    },
    {
     "data": {
      "image/png": "[encoded data removed]",
      "text/plain": [
       "<Figure size 640x480 with 1 Axes>"
      ]
     },
     "metadata": {},
     "output_type": "display_data"
    }
   ],
   "source": [
    "# Plot the airmass of these targets over the night\n",
    "print(Time.now().iso)\n",
    "observer = Observer(location=site.to_earth_location())\n",
    "tstep = 15/60/24\n",
    "time = Time(np.arange(sunset.mjd, sunrise.mjd + tstep/2, tstep), format='mjd', scale='utc', location=site.to_earth_location())\n",
    "plot_airmass(active_astroplan, observer, time)\n",
    "plt.legend(loc=(1.01, 0.3))"
   ]
  },
  {
   "cell_type": "code",
   "execution_count": 10,
   "id": "3e0fb9ff-6398-4d65-bc4d-9e3752caf289",
   "metadata": {},
   "outputs": [
    {
     "name": "stdout",
     "output_type": "stream",
     "text": [
      "HD60753 out of range in HA []\n",
      "HD132096 out of range in HA []\n",
      "HD185975 out of range in HA []\n"
     ]
    },
    {
     "data": {
      "text/plain": [
       "Text(0, 0.5, 'Rotation Angles (deg)')"
      ]
     },
     "execution_count": 10,
     "metadata": {},
     "output_type": "execute_result"
    },
    {
     "data": {
      "image/png": "[encoded data removed]",
      "text/plain": [
       "<Figure size 1000x600 with 1 Axes>"
      ]
     },
     "metadata": {},
     "output_type": "display_data"
    }
   ],
   "source": [
    "# Look at the parallactic angle alt/az ranges\n",
    "\n",
    "def sky_to_rotator(sky_angle, para_angle, alt, nasmyth=True):\n",
    "    # https://github.com/lsst-ts/ts_observatory_control/blob/3845a5ae7722e78aed1e4000132dc14884571991/python/lsst/ts/observatory/control/base_tcs.py#L578\n",
    "    rot_tel = Angle(180.0, unit=u.deg) + para_angle + sky_angle\n",
    "    if nasmyth:\n",
    "        rot_tel += alt\n",
    "    rot_tel = rot_tel.wrap_at(Angle(180.0, unit=u.deg))\n",
    "    return rot_tel\n",
    "\n",
    "colors = colorcet.glasbey_category10\n",
    "\n",
    "lst = time.sidereal_time('mean')\n",
    "fig, ax = plt.subplots(1, 1, figsize=(10, 6))\n",
    "for i, atarget in enumerate(astroplan_targets):\n",
    "    if atarget.name in active_target_names:\n",
    "        if atarget.name.startswith(\"Photo\"):\n",
    "            break\n",
    "        altaz = observer.altaz(time, atarget)\n",
    "        if altaz.alt.max() < 20*u.deg:\n",
    "            print(f\"{atarget.name} not visible; max altitude {altaz.alt.max()}\")\n",
    "            break\n",
    "        pa = observer.parallactic_angle(time, atarget)\n",
    "        # sky angle for observation - matches visits\n",
    "        sky = (pa + Angle(90*u.deg)).wrap_at(Angle(360*u.deg))\n",
    "        if target_info.loc[atarget.name, \"flip\"]:\n",
    "            sky = sky + Angle(180*u.deg)\n",
    "        # Approximate rotator angle\n",
    "        rot = sky_to_rotator(-sky, pa, altaz.alt, nasmyth=True)\n",
    "        # Calculate overslew position\n",
    "        overslew_alt = altaz.alt\n",
    "        overslew_az = altaz.az - Angle(2.0 * u.deg)\n",
    "        overslew_radec = SkyCoord(overslew_az, overslew_alt, frame=altaz).icrs\n",
    "        overslew_pa = observer.parallactic_angle(time, overslew_radec)\n",
    "        # Maintain original sky angle\n",
    "        overslew_sky = sky\n",
    "        overslew_rot = sky_to_rotator(-overslew_sky, overslew_pa, overslew_alt, nasmyth=True)\n",
    "        overslew_change = np.minimum(abs(rot - overslew_rot), abs(pa - overslew_pa))\n",
    "        overslew_rot = rot + overslew_change\n",
    "        mask = np.where(altaz.alt.deg > 20)\n",
    "        color = colors[i]\n",
    "        ax.plot(time.datetime[mask], rot[mask].deg, color=color, linestyle='-', label=f\"{atarget.name} RotAngle\")\n",
    "        ax.fill_between(time.datetime[mask], rot[mask].deg, overslew_rot[mask].deg, color=color, alpha=0.3)\n",
    "        # Identify range of HA which is not good\n",
    "        hour_angle = (atarget.ra - lst).wrap_at(Angle(360*u.deg)).hour\n",
    "        out_of_range = np.where((abs(overslew_rot.deg) > 169) | (abs(rot.deg) > 169))\n",
    "        print(atarget.name, \"out of range in HA\", hour_angle[out_of_range])\n",
    "ax.legend(loc=(1.01, 0.2))\n",
    "ax.grid(alpha=0.3)\n",
    "ax.fill_between(time.datetime, 170, 190, color='black', alpha=0.1)\n",
    "ax.fill_between(time.datetime, -170, -190, color='black', alpha=0.1)\n",
    "_ = plt.xticks(rotation=45)\n",
    "ax.set_ylim(-200, 200)\n",
    "ax.set_xlim(sunset.datetime, sunrise.datetime)\n",
    "ax.set_ylabel(\"Rotation Angles (deg)\")\n",
    "#plt.plot(mount_times.datetime, mount_nas2['nasmyth2CalculatedAngle'], 'k.')"
   ]
  },
  {
   "cell_type": "code",
   "execution_count": 11,
   "id": "b13c4498-dc8a-45a3-8969-49da248e73c1",
   "metadata": {},
   "outputs": [],
   "source": [
    "# plt.plot(mount_times.datetime, mount_nas2['nasmyth2CalculatedAngle'], 'k.')\n",
    "# plt.plot(azel_times.datetime, mount_az['azimuthCalculatedAngle'], 'r.')\n",
    "# plt.plot(azel_times.datetime, mount_el['elevationCalculatedAngle'], 'g.')\n",
    "# #plt.plot(time.datetime[mask], rot[mask].deg, color=color, linestyle='-')\n",
    "# #plt.fill_between(time.datetime[mask], rot[mask].deg, overslew_rot[mask].deg, color=color, alpha=0.3)\n",
    "# _ = plt.xticks(rotation=45)\n",
    "# plt.xlim(mount_times.datetime[xx][0], mount_times.datetime[xx][-1])\n",
    "# q = visits.query('img_type == \"ACQ\"')[::2]\n",
    "# for i, tn in enumerate(q.target_name.unique()):\n",
    "#     qq = q.query('target_name == @tn')\n",
    "#     plt.axvline(Time(qq.obs_start_mjd.iloc[0], format='mjd', scale='tai').datetime, color=colors[i], label=tn)\n",
    "#     for t in qq.obs_start_mjd:\n",
    "#         plt.axvline(Time(t, format='mjd', scale='tai').datetime, color=colors[i])\n",
    "# plt.legend(loc=(1.01, 0.3))\n",
    "# plt.grid(alpha=0.3)\n",
    "# #plt.ylim(70, 160)"
   ]
  },
  {
   "cell_type": "code",
   "execution_count": 12,
   "id": "02c42b9d-5e47-4173-b8c8-820b916801a9",
   "metadata": {},
   "outputs": [],
   "source": [
    "# def merge_packed_time_series(\n",
    "#     packed_dataframe,\n",
    "#     base_field,\n",
    "#     stride=1,\n",
    "#     ref_timestamp_col=\"cRIO_timestamp\",\n",
    "#     fmt=\"unix_tai\",\n",
    "#     scale=\"tai\",\n",
    "# ):\n",
    "#     \"\"\"Select fields that are time samples and unpack them into a dataframe.\n",
    "\n",
    "#     Parameters\n",
    "#     ----------\n",
    "#     packed_dataframe : `pandas.DataFrame`\n",
    "#         packed data frame containing the desired data\n",
    "#     base_field :  `str`\n",
    "#         Base field name that will be expanded to query all\n",
    "#         vector entries.\n",
    "#     stride : `int`, optional\n",
    "#         Only use every stride value when unpacking. Must be a factor\n",
    "#         of the number of packed values. (1 by default)\n",
    "#     ref_timestamp_col : `str`, optional\n",
    "#         Name of the field name to use to assign timestamps to unpacked\n",
    "#         vector fields (default is 'cRIO_timestamp').\n",
    "#     fmt : `str`, optional\n",
    "#         Format to give to the `astropy.time.Time` constructor. Defaults to\n",
    "#         'unix_tai' since most internal timestamp columns are in TAI.\n",
    "#     scale : `str`, optional\n",
    "#         Time scale to give to the `astropy.time.Time` constructor. Defaults to\n",
    "#         'tai'.\n",
    "\n",
    "#     Returns\n",
    "#     -------\n",
    "#     result : `pandas.DataFrame`\n",
    "#         A `pandas.DataFrame` containing the results of the query.\n",
    "#     \"\"\"\n",
    "\n",
    "#     packed_fields = [\n",
    "#         k\n",
    "#         for k in packed_dataframe.keys()\n",
    "#         if k.startswith(base_field) and k[len(base_field) :].isdigit()\n",
    "#     ]\n",
    "#     packed_fields = sorted(\n",
    "#         packed_fields, key=lambda k: int(k[len(base_field) :])\n",
    "#     )  # sort by pack ID\n",
    "#     npack = len(packed_fields)\n",
    "#     if npack % stride != 0:\n",
    "#         raise RuntimeError(\n",
    "#             \"Stride must be a factor of the number of packed fields: \"\n",
    "#             f\"{stride} v. {npack}\"\n",
    "#         )\n",
    "#     packed_len = len(packed_dataframe)\n",
    "#     n_used = npack // stride  # number of raw fields being used\n",
    "#     output = np.empty(n_used * packed_len)\n",
    "#     times = np.empty_like(output, dtype=packed_dataframe[ref_timestamp_col].iloc[0])\n",
    "\n",
    "#     if packed_len == 1:\n",
    "#         dt = 0\n",
    "#     else:\n",
    "#         dt = (\n",
    "#             packed_dataframe[ref_timestamp_col].iloc[1]\n",
    "#             - packed_dataframe[ref_timestamp_col].iloc[0]\n",
    "#         ) / npack\n",
    "#     for i in range(0, npack, stride):\n",
    "#         i0 = i // stride\n",
    "#         output[i0::n_used] = packed_dataframe[f\"{base_field}{i}\"]\n",
    "#         times[i0::n_used] = packed_dataframe[ref_timestamp_col] + i * dt\n",
    "\n",
    "#     timestamps = Time(times, format=fmt, scale=scale)\n",
    "#     return pd.DataFrame(\n",
    "#         {base_field: output, \"times\": times}, index=timestamps.utc.datetime64\n",
    "#     )\n",
    "\n",
    "# topic = \"lsst.sal.ATMCS.mount_AzEl_Encoders\"\n",
    "# fields = '*'\n",
    "# mount = await endpoints['efd'].select_time_series(topic, fields, sunset, sunrise)\n",
    "# mount_el = merge_packed_time_series(mount, base_field='elevationCalculatedAngle', stride=100, ref_timestamp_col='cRIO_timestamp', fmt='unix_tai', scale='tai')\n",
    "# mount_az = merge_packed_time_series(mount, base_field='azimuthCalculatedAngle', stride=100, ref_timestamp_col='cRIO_timestamp', fmt='unix_tai', scale='tai')\n",
    "# azel_times = Time(mount_el['times'], format='unix_tai', scale='tai')\n",
    "\n",
    "# topic = \"lsst.sal.ATMCS.mount_Nasmyth_Encoders\"\n",
    "# fields = '*'\n",
    "# mount = await endpoints['efd'].select_time_series(topic, fields, sunset, sunrise)\n",
    "# mount_nas2 = merge_packed_time_series(mount, base_field='nasmyth2CalculatedAngle', stride=100, ref_timestamp_col='cRIO_timestamp', fmt='unix_tai', scale='tai')\n",
    "# mount_times = Time(mount_nas2['times'], format='unix_tai', scale='tai')"
   ]
  },
  {
   "cell_type": "markdown",
   "id": "9f95ae13-fddb-4622-8fe5-3da67f4dd623",
   "metadata": {},
   "source": [
    "### Run the simulation"
   ]
  },
  {
   "cell_type": "code",
   "execution_count": 13,
   "id": "5e96c420-b891-42b4-946d-49a28fc33c4e",
   "metadata": {},
   "outputs": [
    {
     "name": "stdout",
     "output_type": "stream",
     "text": [
      "Using just before sunset 2025-03-24 22:34:48.429 for start_time\n"
     ]
    },
    {
     "name": "stderr",
     "output_type": "stream",
     "text": [
      "/Users/lynnej/lsst_repos/rubin_scheduler/rubin_scheduler/scheduler/basis_functions/basis_functions.py:956: FutureWarning: filtername deprecated in favor of bandname\n",
      "  warnings.warn(\"filtername deprecated in favor of bandname\", FutureWarning)\n",
      "/Users/lynnej/lsst_repos/rubin_scheduler/rubin_scheduler/scheduler/basis_functions/basis_functions.py:1329: FutureWarning: filter_names deprecated in favor of band_names\n",
      "  warnings.warn(\"filter_names deprecated in favor of band_names\", FutureWarning)\n",
      "/Users/lynnej/lsst_repos/rubin_scheduler/rubin_scheduler/skybrightness_pre/sky_model_pre.py:345: UserWarning: Sun high, using bright sky approx\n",
      "  warnings.warn(\"Sun high, using bright sky approx\")\n",
      "Failed to fill queue at time 60758.947782746516\n",
      "/Users/lynnej/lsst_repos/rubin_scheduler/rubin_scheduler/scheduler/sim_runner.py:157: UserWarning: No observation. Step into the future and trying again.\n",
      "  warnings.warn(\"No observation. Step into the future and trying again.\")\n",
      "/Users/lynnej/lsst_repos/rubin_scheduler/rubin_scheduler/skybrightness_pre/sky_model_pre.py:345: UserWarning: Sun high, using bright sky approx\n",
      "  warnings.warn(\"Sun high, using bright sky approx\")\n",
      "Failed to fill queue at time 60758.95819941318\n",
      "/Users/lynnej/lsst_repos/rubin_scheduler/rubin_scheduler/scheduler/sim_runner.py:157: UserWarning: No observation. Step into the future and trying again.\n",
      "  warnings.warn(\"No observation. Step into the future and trying again.\")\n",
      "/Users/lynnej/lsst_repos/rubin_scheduler/rubin_scheduler/skybrightness_pre/sky_model_pre.py:345: UserWarning: Sun high, using bright sky approx\n",
      "  warnings.warn(\"Sun high, using bright sky approx\")\n",
      "Failed to fill queue at time 60758.968616079845\n",
      "/Users/lynnej/lsst_repos/rubin_scheduler/rubin_scheduler/scheduler/sim_runner.py:157: UserWarning: No observation. Step into the future and trying again.\n",
      "  warnings.warn(\"No observation. Step into the future and trying again.\")\n",
      "/Users/lynnej/lsst_repos/rubin_scheduler/rubin_scheduler/skybrightness_pre/sky_model_pre.py:359: UserWarning: Requested MJD between sunrise and sunset, returning closest maps\n",
      "  warnings.warn(\"Requested MJD between sunrise and sunset, returning closest maps\")\n",
      "Failed to fill queue at time 60758.97903274651\n",
      "/Users/lynnej/lsst_repos/rubin_scheduler/rubin_scheduler/scheduler/sim_runner.py:157: UserWarning: No observation. Step into the future and trying again.\n",
      "  warnings.warn(\"No observation. Step into the future and trying again.\")\n"
     ]
    },
    {
     "name": "stdout",
     "output_type": "stream",
     "text": [
      "progress = 88.95%"
     ]
    },
    {
     "name": "stderr",
     "output_type": "stream",
     "text": [
      "/Users/lynnej/lsst_repos/rubin_scheduler/rubin_scheduler/scheduler/utils/utils.py:179: UserWarning: IntRounded being used with a potentially too-small scale factor.\n",
      "  warnings.warn(\"IntRounded being used with a potentially too-small scale factor.\")\n",
      "/Users/lynnej/lsst_repos/rubin_scheduler/rubin_scheduler/skybrightness_pre/sky_model_pre.py:359: UserWarning: Requested MJD between sunrise and sunset, returning closest maps\n",
      "  warnings.warn(\"Requested MJD between sunrise and sunset, returning closest maps\")\n",
      "/Users/lynnej/lsst_repos/rubin_scheduler/rubin_scheduler/skybrightness_pre/sky_model_pre.py:359: UserWarning: Requested MJD between sunrise and sunset, returning closest maps\n",
      "  warnings.warn(\"Requested MJD between sunrise and sunset, returning closest maps\")\n",
      "/Users/lynnej/lsst_repos/rubin_scheduler/rubin_scheduler/skybrightness_pre/sky_model_pre.py:345: UserWarning: Sun high, using bright sky approx\n",
      "  warnings.warn(\"Sun high, using bright sky approx\")\n"
     ]
    },
    {
     "ename": "IndexError",
     "evalue": "list index out of range",
     "output_type": "error",
     "traceback": [
      "\u001b[0;31m---------------------------------------------------------------------------\u001b[0m",
      "\u001b[0;31mIndexError\u001b[0m                                Traceback (most recent call last)",
      "Cell \u001b[0;32mIn[13], line 39\u001b[0m\n\u001b[1;32m     37\u001b[0m \u001b[38;5;28;01mwith\u001b[39;00m warnings\u001b[38;5;241m.\u001b[39mcatch_warnings():\n\u001b[1;32m     38\u001b[0m     warnings\u001b[38;5;241m.\u001b[39msimplefilter(\u001b[38;5;124m\"\u001b[39m\u001b[38;5;124mignore\u001b[39m\u001b[38;5;124m\"\u001b[39m, \u001b[38;5;167;01mRuntimeWarning\u001b[39;00m)\n\u001b[0;32m---> 39\u001b[0m     vals \u001b[38;5;241m=\u001b[39m \u001b[43msim_runner\u001b[49m\u001b[43m(\u001b[49m\n\u001b[1;32m     40\u001b[0m \u001b[43m        \u001b[49m\u001b[43mobservatory\u001b[49m\u001b[43m,\u001b[49m\n\u001b[1;32m     41\u001b[0m \u001b[43m        \u001b[49m\u001b[43mscheduler\u001b[49m\u001b[43m,\u001b[49m\n\u001b[1;32m     42\u001b[0m \u001b[43m        \u001b[49m\u001b[43msim_duration\u001b[49m\u001b[38;5;241;43m=\u001b[39;49m\u001b[43msurvey_length\u001b[49m\u001b[43m,\u001b[49m\n\u001b[1;32m     43\u001b[0m \u001b[43m        \u001b[49m\u001b[43mrecord_rewards\u001b[49m\u001b[38;5;241;43m=\u001b[39;49m\u001b[43mrewards\u001b[49m\u001b[43m,\u001b[49m\n\u001b[1;32m     44\u001b[0m \u001b[43m        \u001b[49m\u001b[43mverbose\u001b[49m\u001b[38;5;241;43m=\u001b[39;49m\u001b[38;5;28;43;01mTrue\u001b[39;49;00m\u001b[43m,\u001b[49m\n\u001b[1;32m     45\u001b[0m \u001b[43m    \u001b[49m\u001b[43m)\u001b[49m\n\u001b[1;32m     46\u001b[0m observatory \u001b[38;5;241m=\u001b[39m vals[\u001b[38;5;241m0\u001b[39m]\n\u001b[1;32m     47\u001b[0m scheduler \u001b[38;5;241m=\u001b[39m vals[\u001b[38;5;241m1\u001b[39m]\n",
      "File \u001b[0;32m~/lsst_repos/rubin_scheduler/rubin_scheduler/scheduler/sim_runner.py:166\u001b[0m, in \u001b[0;36msim_runner\u001b[0;34m(observatory, scheduler, band_scheduler, sim_start_mjd, sim_duration, filename, delete_past, n_visit_limit, step_none, verbose, extra_info, event_table, record_rewards, start_result_size, append_result_size, anomalous_overhead_func, telescope, snapshot_dir)\u001b[0m\n\u001b[1;32m    164\u001b[0m     \u001b[38;5;28;01melse\u001b[39;00m:\n\u001b[1;32m    165\u001b[0m         \u001b[38;5;28;01mcontinue\u001b[39;00m\n\u001b[0;32m--> 166\u001b[0m completed_obs, new_night \u001b[38;5;241m=\u001b[39m \u001b[43mobservatory\u001b[49m\u001b[38;5;241;43m.\u001b[39;49m\u001b[43mobserve\u001b[49m\u001b[43m(\u001b[49m\u001b[43mdesired_obs\u001b[49m\u001b[43m)\u001b[49m\n\u001b[1;32m    168\u001b[0m \u001b[38;5;28;01mif\u001b[39;00m completed_obs \u001b[38;5;129;01mis\u001b[39;00m \u001b[38;5;129;01mnot\u001b[39;00m \u001b[38;5;28;01mNone\u001b[39;00m:\n\u001b[1;32m    169\u001b[0m     \u001b[38;5;28;01mif\u001b[39;00m anomalous_overhead_func \u001b[38;5;129;01mis\u001b[39;00m \u001b[38;5;129;01mnot\u001b[39;00m \u001b[38;5;28;01mNone\u001b[39;00m:\n",
      "File \u001b[0;32m~/lsst_repos/rubin_scheduler/rubin_scheduler/scheduler/model_observatory/model_observatory.py:748\u001b[0m, in \u001b[0;36mModelObservatory.observe\u001b[0;34m(self, observation)\u001b[0m\n\u001b[1;32m    744\u001b[0m observation[\u001b[38;5;124m\"\u001b[39m\u001b[38;5;124malt\u001b[39m\u001b[38;5;124m\"\u001b[39m] \u001b[38;5;241m=\u001b[39m \u001b[38;5;28mself\u001b[39m\u001b[38;5;241m.\u001b[39mobservatory\u001b[38;5;241m.\u001b[39mlast_alt_rad\n\u001b[1;32m    746\u001b[0m \u001b[38;5;66;03m# Metadata on observation is after slew and settle,\u001b[39;00m\n\u001b[1;32m    747\u001b[0m \u001b[38;5;66;03m# so at start of exposure.\u001b[39;00m\n\u001b[0;32m--> 748\u001b[0m result \u001b[38;5;241m=\u001b[39m \u001b[38;5;28;43mself\u001b[39;49m\u001b[38;5;241;43m.\u001b[39;49m\u001b[43mobservation_add_data\u001b[49m\u001b[43m(\u001b[49m\u001b[43mobservation\u001b[49m\u001b[43m)\u001b[49m\n\u001b[1;32m    749\u001b[0m \u001b[38;5;28mself\u001b[39m\u001b[38;5;241m.\u001b[39mmjd \u001b[38;5;241m=\u001b[39m \u001b[38;5;28mself\u001b[39m\u001b[38;5;241m.\u001b[39mmjd \u001b[38;5;241m+\u001b[39m visittime \u001b[38;5;241m/\u001b[39m \u001b[38;5;241m24.0\u001b[39m \u001b[38;5;241m/\u001b[39m \u001b[38;5;241m3600.0\u001b[39m\n\u001b[1;32m    750\u001b[0m new_night \u001b[38;5;241m=\u001b[39m \u001b[38;5;28;01mFalse\u001b[39;00m\n",
      "File \u001b[0;32m~/lsst_repos/rubin_scheduler/rubin_scheduler/scheduler/model_observatory/model_observatory.py:526\u001b[0m, in \u001b[0;36mModelObservatory.observation_add_data\u001b[0;34m(self, observation)\u001b[0m\n\u001b[1;32m    524\u001b[0m \u001b[38;5;28;01mif\u001b[39;00m \u001b[38;5;28mself\u001b[39m\u001b[38;5;241m.\u001b[39msky_model \u001b[38;5;129;01mis\u001b[39;00m \u001b[38;5;129;01mnot\u001b[39;00m \u001b[38;5;28;01mNone\u001b[39;00m:\n\u001b[1;32m    525\u001b[0m     hpid \u001b[38;5;241m=\u001b[39m _ra_dec2_hpid(\u001b[38;5;28mself\u001b[39m\u001b[38;5;241m.\u001b[39msky_model\u001b[38;5;241m.\u001b[39mnside, observation[\u001b[38;5;124m\"\u001b[39m\u001b[38;5;124mRA\u001b[39m\u001b[38;5;124m\"\u001b[39m], observation[\u001b[38;5;124m\"\u001b[39m\u001b[38;5;124mdec\u001b[39m\u001b[38;5;124m\"\u001b[39m])\n\u001b[0;32m--> 526\u001b[0m     observation[\u001b[38;5;124m\"\u001b[39m\u001b[38;5;124mskybrightness\u001b[39m\u001b[38;5;124m\"\u001b[39m] \u001b[38;5;241m=\u001b[39m \u001b[38;5;28;43mself\u001b[39;49m\u001b[38;5;241;43m.\u001b[39;49m\u001b[43msky_model\u001b[49m\u001b[38;5;241;43m.\u001b[39;49m\u001b[43mreturn_mags\u001b[49m\u001b[43m(\u001b[49m\n\u001b[1;32m    527\u001b[0m \u001b[43m        \u001b[49m\u001b[38;5;28;43mself\u001b[39;49m\u001b[38;5;241;43m.\u001b[39;49m\u001b[43mmjd\u001b[49m\u001b[43m,\u001b[49m\u001b[43m \u001b[49m\u001b[43mindx\u001b[49m\u001b[38;5;241;43m=\u001b[39;49m\u001b[43m[\u001b[49m\u001b[43mhpid\u001b[49m\u001b[43m]\u001b[49m\u001b[43m,\u001b[49m\u001b[43m \u001b[49m\u001b[43mextrapolate\u001b[49m\u001b[38;5;241;43m=\u001b[39;49m\u001b[38;5;28;43;01mTrue\u001b[39;49;00m\n\u001b[1;32m    528\u001b[0m \u001b[43m    \u001b[49m\u001b[43m)\u001b[49m[observation[\u001b[38;5;124m\"\u001b[39m\u001b[38;5;124mband\u001b[39m\u001b[38;5;124m\"\u001b[39m][\u001b[38;5;241m0\u001b[39m]]\n\u001b[1;32m    530\u001b[0m observation[\u001b[38;5;124m\"\u001b[39m\u001b[38;5;124mfivesigmadepth\u001b[39m\u001b[38;5;124m\"\u001b[39m] \u001b[38;5;241m=\u001b[39m m5_flat_sed(\n\u001b[1;32m    531\u001b[0m     observation[\u001b[38;5;124m\"\u001b[39m\u001b[38;5;124mband\u001b[39m\u001b[38;5;124m\"\u001b[39m][\u001b[38;5;241m0\u001b[39m],\n\u001b[1;32m    532\u001b[0m     observation[\u001b[38;5;124m\"\u001b[39m\u001b[38;5;124mskybrightness\u001b[39m\u001b[38;5;124m\"\u001b[39m],\n\u001b[0;32m   (...)\u001b[0m\n\u001b[1;32m    536\u001b[0m     nexp\u001b[38;5;241m=\u001b[39mobservation[\u001b[38;5;124m\"\u001b[39m\u001b[38;5;124mnexp\u001b[39m\u001b[38;5;124m\"\u001b[39m],\n\u001b[1;32m    537\u001b[0m )\n\u001b[1;32m    538\u001b[0m \u001b[38;5;66;03m# If there is cloud extinction, apply it.\u001b[39;00m\n",
      "File \u001b[0;32m~/lsst_repos/rubin_scheduler/rubin_scheduler/skybrightness_pre/sky_model_pre.py:398\u001b[0m, in \u001b[0;36mSkyModelPreBase.return_mags\u001b[0;34m(self, mjd, indx, badval, bands, extrapolate, filters)\u001b[0m\n\u001b[1;32m    393\u001b[0m masked_indx \u001b[38;5;241m=\u001b[39m np\u001b[38;5;241m.\u001b[39mwhere((sbs[bands[\u001b[38;5;241m0\u001b[39m]]\u001b[38;5;241m.\u001b[39mravel() \u001b[38;5;241m==\u001b[39m badval) \u001b[38;5;241m|\u001b[39m np\u001b[38;5;241m.\u001b[39misnan(sbs[bands[\u001b[38;5;241m0\u001b[39m]]\u001b[38;5;241m.\u001b[39mravel()))[\u001b[38;5;241m0\u001b[39m]\n\u001b[1;32m    394\u001b[0m \u001b[38;5;28;01mfor\u001b[39;00m i, mi \u001b[38;5;129;01min\u001b[39;00m \u001b[38;5;28menumerate\u001b[39m(masked_indx):\n\u001b[1;32m    395\u001b[0m     \u001b[38;5;66;03m# Note, this is going to be really slow for many\u001b[39;00m\n\u001b[1;32m    396\u001b[0m     \u001b[38;5;66;03m# pixels, should use a kdtree\u001b[39;00m\n\u001b[1;32m    397\u001b[0m     dist \u001b[38;5;241m=\u001b[39m _angular_separation(\n\u001b[0;32m--> 398\u001b[0m         \u001b[38;5;28mself\u001b[39m\u001b[38;5;241m.\u001b[39mra[\u001b[43mindx\u001b[49m\u001b[43m[\u001b[49m\u001b[43mi\u001b[49m\u001b[43m]\u001b[49m],\n\u001b[1;32m    399\u001b[0m         \u001b[38;5;28mself\u001b[39m\u001b[38;5;241m.\u001b[39mdec[indx[i]],\n\u001b[1;32m    400\u001b[0m         ra_full,\n\u001b[1;32m    401\u001b[0m         dec_full,\n\u001b[1;32m    402\u001b[0m     )\n\u001b[1;32m    403\u001b[0m     closest \u001b[38;5;241m=\u001b[39m np\u001b[38;5;241m.\u001b[39mwhere(dist \u001b[38;5;241m==\u001b[39m dist\u001b[38;5;241m.\u001b[39mmin())[\u001b[38;5;241m0\u001b[39m]\n\u001b[1;32m    404\u001b[0m     \u001b[38;5;28;01mfor\u001b[39;00m bandname \u001b[38;5;129;01min\u001b[39;00m bands:\n",
      "\u001b[0;31mIndexError\u001b[0m: list index out of range"
     ]
    }
   ],
   "source": [
    "# Note that the scheduler and observatory do need to be set up here - they change state as observations are requested and time moves on\n",
    "# If you need to investigate the state of things at a particular point in the night, note the MJD of the failure, then set the sim_duration so that\n",
    "# the simulation stops just at or prior to that point. \n",
    "# Then investigate the surveys and basis functions, using the conditions returned by the observatory at that time.\n",
    "# Once visits within a night are acquired, this could be re-run to update the sim for the correct start time.\n",
    "# (note you could run multiple sims to start, and compare resulting observations)\n",
    "\n",
    "rewards = True \n",
    "\n",
    "obs_examples = []\n",
    "\n",
    "try:\n",
    "    start_time\n",
    "except NameError:\n",
    "    start_time = sunset - TimeDelta(10*60, format='sec')\n",
    "    print(f\"Using just before sunset {start_time.iso} for start_time\")\n",
    "\n",
    "for start in [start_time]:\n",
    "    nside, scheduler=get_scheduler()\n",
    "    scheduler.keep_rewards=rewards\n",
    "\n",
    "    observatory = ModelObservatory(nside=nside, \n",
    "                                   mjd_start=start.mjd,\n",
    "                                   cloud_data='ideal',\n",
    "                                   seeing_data='ideal',\n",
    "                                   downtimes='ideal',\n",
    "                                   init_load_length=1,\n",
    "                                   starting_time_key='sunset',\n",
    "                                   ending_time_key='sunrise',\n",
    "                                  )\n",
    "    observatory.observatory.setup_camera(band_changetime=5.0, maxspeed=1.0, shutter_2motion_min_time=0.0, \n",
    "                                         rotator_min=-170, rotator_max=170,)\n",
    "    observatory.observatory.setup_telescope(altitude_maxspeed=1.0, azimuth_maxspeed=1.5, settle_time=40.0)\n",
    "    observatory.observatory.setup_dome(azimuth_maxspeed=3.0)\n",
    "\n",
    "    # Catch the RuntimeWarning this particular setup is issuing due to calc_reward_function not expecting all nans\n",
    "    with warnings.catch_warnings():\n",
    "        warnings.simplefilter(\"ignore\", RuntimeWarning)\n",
    "        vals = sim_runner(\n",
    "            observatory,\n",
    "            scheduler,\n",
    "            sim_duration=survey_length,\n",
    "            record_rewards=rewards,\n",
    "            verbose=True,\n",
    "        )\n",
    "    observatory = vals[0]\n",
    "    scheduler = vals[1]\n",
    "    observations = vals[2]\n",
    "    if len(vals) == 5:\n",
    "        rewards = vals[3]\n",
    "        obs_rewards = vals[4]\n",
    "    obs_examples.append(observations)"
   ]
  },
  {
   "cell_type": "code",
   "execution_count": null,
   "id": "0141b4d2-1133-4c98-968f-dd52e1f36d6a",
   "metadata": {},
   "outputs": [],
   "source": [
    "# If more debugging at a particular time is desired\n",
    "\n",
    "# nside, scheduler = get_scheduler()\n",
    "# observatory = get_ideal_model_observatory(nside=nside, dayobs = day_obs, wind_speed=0, wind_direction=0)\n",
    "# observatory.observatory.setup_camera(band_changetime=5.0, maxspeed=1.5, shutter_2motion_min_time=0.0)\n",
    "# observatory.observatory.setup_telescope(altitude_maxspeed=1.5, azimuth_maxspeed=1.5, settle_time=40.0)\n",
    "# observatory.observatory.setup_dome(azimuth_maxspeed=3.0)\n",
    "# observatory.mjd = sunset.mjd\n",
    "\n",
    "# conditions = observatory.return_conditions()\n",
    "\n",
    "# test_observations = []\n",
    "# scheduler.update_conditions(conditions)\n",
    "# obs = scheduler.request_observation(mjd=observatory.mjd, whole_queue=True)\n",
    "# if obs is not None:\n",
    "#     for o in obs:\n",
    "#         observation, new_night = observatory.observe(o)\n",
    "#         if observation is not None:\n",
    "#             scheduler.add_observation(observation)\n",
    "#             test_observations += [observation]\n",
    "\n",
    "# Or look at survey basis functions at a particular time\n",
    "# conditions = observatory.return_conditions()\n",
    "# for ti, tier in enumerate(scheduler.survey_lists):\n",
    "#     print(f\"TIER {ti}\")\n",
    "#     for survey in tier:\n",
    "#         print(survey.survey_name)\n",
    "#         for bf in survey.basis_functions:\n",
    "#             bf_values = bf(conditions)\n",
    "#             if isinstance(bf_values, float) or isinstance(bf_values, int):\n",
    "#                 print(bf.label(), bf.check_feasibility(conditions), bf_values)\n",
    "#             else:\n",
    "#                 print(bf.label(), bf.check_feasibility(conditions), np.nanmax(bf_values[survey.roi_hpid]))\n",
    "#         print('total survey reward', np.nanmax(survey.calc_reward_function(conditions)))"
   ]
  },
  {
   "cell_type": "markdown",
   "id": "4256add8-5e53-4dae-b4ca-17d5faec0052",
   "metadata": {},
   "source": [
    "### Investigate the reward values throughout the night. \n",
    "\n",
    "The survey with the largest reward *in its tier* will be the \"winner\". Lower tiers will win over higher tiers.\n",
    "Because the basis functions for most of the surveys are simply masks, these reward values will generally be flat across the night, with interruptions for visit gaps. Adjust the 'priority' to adjust the overall reward for a target up or down. "
   ]
  },
  {
   "cell_type": "code",
   "execution_count": null,
   "id": "c587a241-397e-4bbd-893d-0bc7cdeeee57",
   "metadata": {},
   "outputs": [],
   "source": [
    "survey_rewards_df = (\n",
    "        rewards.groupby([\"list_index\", \"survey_index\", \"queue_start_mjd\", \"queue_fill_mjd_ns\"])\n",
    "        .agg(\n",
    "            {\n",
    "                \"tier_label\": \"first\",\n",
    "                \"survey_label\": \"first\",\n",
    "                \"survey_class\": \"first\",\n",
    "                \"survey_reward\": \"first\",\n",
    "                \"feasible\": \"all\",\n",
    "            }\n",
    "        )\n",
    "        .loc[:, [\"tier_label\", \"survey_label\", \"survey_class\", \"survey_reward\", \"feasible\"]]\n",
    "        .reset_index(level=[\"queue_start_mjd\", \"queue_fill_mjd_ns\"])\n",
    "        .query(f\"floor(queue_start_mjd-0.5)=={day_obs_mjd}\")\n",
    "        .sort_index(ascending=False)\n",
    "    )\n",
    "plt.figure(figsize=(8, 5))\n",
    "\n",
    "for index in survey_rewards_df.index.unique():\n",
    "    s = survey_rewards_df.loc[index]\n",
    "    plt.plot(s.queue_start_mjd.values, s.survey_reward.values, label=s['survey_label'].iloc[0])\n",
    "plt.legend(loc=(1.01, 0.3))\n",
    "plt.xlim(sunset.mjd, sunrise.mjd)"
   ]
  },
  {
   "cell_type": "markdown",
   "id": "e4068832-2dbe-4144-884f-56529c709bef",
   "metadata": {},
   "source": [
    "### Plot the airmass distribution of the observations per target"
   ]
  },
  {
   "cell_type": "code",
   "execution_count": null,
   "id": "efb08d1a-33c4-4359-a758-509317681f81",
   "metadata": {},
   "outputs": [],
   "source": [
    "plt.figure(figsize=(12, 6))\n",
    "colors = colorcet.glasbey_category10\n",
    "for i, scheduler_note in enumerate(np.unique(observations['scheduler_note'])):\n",
    "    color = colors[i]\n",
    "    match = np.where(observations['scheduler_note'] == scheduler_note)\n",
    "    plt.plot(Time(observations[match]['mjd'], format='mjd', scale='utc').datetime, observations[match]['airmass'],\n",
    "             marker='o', markeredgecolor='lightgray', markersize=5, alpha=0.8, linestyle='', color=color, label=scheduler_note)\n",
    "plt.xlim(sunset.datetime, sunrise.datetime)\n",
    "plt.ylim(2.3, 0.9)\n",
    "plt.legend(loc=(1.0, 0.3))\n",
    "plt.xticks(rotation=45)\n",
    "plt.xlabel(\"Time (MJD)\") \n",
    "plt.ylabel(\"Airmass\")\n",
    "plt.grid(alpha=0.3)\n",
    "print(Time.now().iso)"
   ]
  },
  {
   "cell_type": "markdown",
   "id": "d1b536ff-e509-4ddb-8dc8-0f75848e7c30",
   "metadata": {},
   "source": [
    "###  Some basic stats of the targets"
   ]
  },
  {
   "cell_type": "code",
   "execution_count": null,
   "id": "2a3d5511-f226-4453-a3a0-11d7dacf714d",
   "metadata": {},
   "outputs": [],
   "source": [
    "obs = pd.DataFrame(observations)\n",
    "# quick hack to get 'cwfs' into the target_name field for the CWFS survey, just for making this table look cleaner\n",
    "cwfs_obs = np.where(obs['scheduler_note'] == \"cwfs\")[0]\n",
    "target_col = np.where(obs.columns == \"target_name\")[0]\n",
    "obs.iloc[cwfs_obs, target_col] = 'cwfs'\n",
    "\n",
    "# Count up some basic stats about the airmass and number of observations\n",
    "stats = obs.groupby('target_name').agg(min_airmass = ('airmass', 'min'), max_airmass = ('airmass', 'max'),\n",
    "                                           airmass_range = ('airmass', np.ptp), timespan_hours = ('mjd', np.ptp), count=('mjd', 'count'))\n",
    "stats['timespan_hours'] *= 24\n",
    "stats = pd.merge(target_info, stats, left_index=True, right_index=True, how='outer')\n",
    "stats.sort_values(by='count', ascending=False)"
   ]
  },
  {
   "cell_type": "markdown",
   "id": "80c16e4d-77c8-4f28-8762-26933614ebd0",
   "metadata": {},
   "source": [
    "If this looks reasonable - then let's try this configuration. \n",
    "However, you may want to change the targets on a particular night -- go to the `ts_config_ocs/Scheduler/auxtel/fbs_spec_flex_survey.py` file (in your copy of the repo) and edit the lists of targets (spectropy_priority_targets and imaging_priority_targets, most likely). \n",
    "See if it starts doing what you want, and please come ask me more questions! \n"
   ]
  },
  {
   "cell_type": "code",
   "execution_count": null,
   "id": "778af35d-d333-42e3-bc5a-8c625909257a",
   "metadata": {},
   "outputs": [],
   "source": [
    "# If you want a view that is the same as the Opsim output format .. (and quantities in degrees) .. \n",
    "from rubin_scheduler.scheduler.utils import SchemaConverter\n",
    "s_visits = SchemaConverter().obs2opsim(observations)\n",
    "s_visits = pd.DataFrame(s_visits)\n",
    "s_visits['HA'] = (s_visits['fieldRA'] - s_visits['observationStartLST']) / 360 * 12 % 24\n",
    "s_visits[['observationStartMJD', 'fieldRA', 'fieldDec', 'altitude', 'azimuth', 'target_name', 'science_program', 'airmass', 'visitExposureTime', 'slewTime', 'HA', 'paraAngle']]"
   ]
  },
  {
   "cell_type": "markdown",
   "id": "e4db3e35-abd2-444c-966f-92e951b6a3e9",
   "metadata": {},
   "source": [
    "## Compare to actual visits acquired (or being acquired)"
   ]
  },
  {
   "cell_type": "code",
   "execution_count": null,
   "id": "7b15140f-4912-4edf-aa7f-d582e2fe1134",
   "metadata": {},
   "outputs": [],
   "source": [
    "# Plot actual visits on top -- some things to import first .. \n",
    "\n",
    "from lsst_efd_client import EfdClient\n",
    "import requests\n",
    "\n",
    "# If it's in progress, we can also look at current visits - \n",
    "# On the RSP, access token available from lsst.rsp\n",
    "try:\n",
    "    from lsst.rsp import get_access_token\n",
    "# But otherwise ..\n",
    "except ImportError:\n",
    "    def get_access_token(token_file : str | None = None) -> str:\n",
    "        if token_file is not None:\n",
    "            with open(token_file, \"r\") as f:\n",
    "                token = f.read()\n",
    "                token = token.rstrip(\"\\n\")\n",
    "        else:\n",
    "            token = os.environ.get(\"ACCESS_TOKEN\")\n",
    "        if token is None:\n",
    "            warnings.warn(\"No RSP token available.\")\n",
    "        return token\n",
    "\n",
    "def get_clients(token_file : str | None = None) -> dict:\n",
    "    \"\"\"Return site-specific client connections. \n",
    "\n",
    "    Parameters\n",
    "    ----------\n",
    "    token_file : `str` or None\n",
    "        File containing an RSP token.\n",
    "\n",
    "    Returns\n",
    "    -------\n",
    "    endpoints : `dict`\n",
    "        Dictionary with `efd`, `obsenv`, \n",
    "        `narrative_log`, and `exposure_log`\n",
    "        connection information.\n",
    "        For the obsenv, narrative log and exposure log, these are only\n",
    "        defined for the summit or USDF.\n",
    "\n",
    "    Note\n",
    "    ----\n",
    "    The authentication token required to access the log services\n",
    "    is an RSP token, and is RSP site-specific. \n",
    "    For users outside the RSP, a token can be created as described in\n",
    "    https://nb.lsst.io/environment/tokens.html\n",
    "    \"\"\"\n",
    "    # Set up authentication\n",
    "    token = get_access_token(token_file)\n",
    "    auth = (\"user\", token)\n",
    "    # This authentication is for nightlog, exposurelog, nightreport currently\n",
    "    # But I think it's the same underlying info for EfdClient i.e.\n",
    "    # https://github.com/lsst/schedview/blob/e11fbd51ee5e22d11fef9a52f66dfcc082181cb6/schedview/app/scheduler_dashboard/influxdb_client.py\n",
    "    # For lots more information on rubin tokens see DMTN-234.\n",
    "    # For information on scopes, see DMTN-235.\n",
    "    \n",
    "    # let's do this like lsst.summit.utils.getSite but simpler\n",
    "    site = \"UNKNOWN\"\n",
    "    location = os.getenv(\"EXTERNAL_INSTANCE_URL\", \"\")\n",
    "    if \"tucson-teststand\" in location:\n",
    "        site = \"tucson\"\n",
    "    elif \"summit-lsp\" in location:\n",
    "        site = \"summit\"\n",
    "    elif \"base-lsp\" in location:\n",
    "        site = \"base\"\n",
    "    elif \"usdf-rsp\" in location:\n",
    "        site = \"usdf\"\n",
    "    # If location not set, next step is to check hostname\n",
    "    elif location == \"\":\n",
    "        hostname = os.getenv(\"HOSTNAME\", \"\")\n",
    "        interactiveNodes = (\"sdfrome\", \"sdfiana\")\n",
    "        if hostname.startswith(interactiveNodes):\n",
    "            site = \"usdf\"\n",
    "        elif hostname == \"htcondor.ls.lsst.org\":\n",
    "            site = \"base\"\n",
    "        elif hostname == \"htcondor.cp.lsst.org\":\n",
    "            site = \"summit\"\n",
    "\n",
    "    \n",
    "    if site == \"summit\":\n",
    "        api_base = \"https://summit-lsp.lsst.codes\"\n",
    "        efd_client = EfdClient(\"summit_efd\")\n",
    "        obsenv_client = EfdClient(\"summit_efd\", db_name=\"lsst.obsenv\")\n",
    "    elif site == \"tucson\":\n",
    "        api_base = None\n",
    "        efd_client = EfdClient(\"tucson_teststand_efd\")\n",
    "        obsenv_client = EfdClient(\"tucson_teststand_efd\", db_name=\"lsst.obsenv\")\n",
    "    elif site == \"base\":\n",
    "        api_base = \"https://base-lsp.slac.lsst.codes\"\n",
    "        efd_client = EfdClient(\"base_efd\")\n",
    "        obsenv_client = EfdClient(\"base_efd\", db_name=\"lsst.obsenv\")\n",
    "    elif site == \"usdf\":\n",
    "        # For tokens, need to distinguish between dev and prod\n",
    "        if \"dev\" in location:\n",
    "            api_base = \"https://usdf-rsp-dev.slac.stanford.edu\"\n",
    "        else:\n",
    "            api_base = \"https://usdf-rsp.slac.stanford.edu\"\n",
    "        efd_client = EfdClient(\"usdf_efd\")\n",
    "        obsenv_client = EfdClient(\"usdf_efd\", db_name='lsst.obsenv')\n",
    "        # Also set up some env variables.\n",
    "        os.environ[\"no_proxy\"] += \",.consdb\"\n",
    "        os.environ[\"RUBIN_SIM_DATA_DIR\"] = \"/sdf/data/rubin/shared/rubin_sim_data\"\n",
    "    else:\n",
    "        # Assume USDF prod (for any UNKNOWN)\n",
    "        efd_client = EfdClient(\"usdf_efd\")\n",
    "        obsenv_client = EfdClient(\"usdf_efd\", db_name='lsst.obsenv')\n",
    "        api_base = \"https://usdf-rsp.slac.stanford.edu\"\n",
    "    \n",
    "    narrative_log =  \"/narrativelog/messages\"\n",
    "    exposure_log = \"/exposurelog/messages\"\n",
    "    nightreport =  \"/nightreport/reports\"\n",
    "    consdb_query = \"/consdb/query\"\n",
    "    \n",
    "    endpoints = {'api_base': api_base, 'auth': auth, \n",
    "                'efd': efd_client, 'obsenv': obsenv_client, \n",
    "                'consdb': consdb_query,\n",
    "                'narrative_log': narrative_log, 'exposure_log': exposure_log,  \n",
    "                'nightreport': nightreport}\n",
    "    \n",
    "    # If some verbose output is desired\n",
    "    # We'll put this here to make it easier to avoid printing the auth token\n",
    "    endpoints_string = f\"base url: {endpoints['api_base']} \" \n",
    "    endpoints_string += f\"efd host: {endpoints['efd'].influx_client.host}\"\n",
    "    endpoints['string'] = endpoints_string\n",
    "\n",
    "    return endpoints\n",
    "\n",
    "\n",
    "def query_logging_services(endpoint: str, auth: tuple, params: dict) -> pd.DataFrame:\n",
    "    \"\"\"Send `get` query to logging services. \n",
    "    \n",
    "    Parameters\n",
    "    ----------\n",
    "    endpoint : `str`\n",
    "        The URL to send the query to.\n",
    "        Usually like `https://usdf-rsp.slac.stanford.edu/narrativelog/messages`\n",
    "    auth : `tuple`\n",
    "        The username and password for authentication.\n",
    "        The username can be any string, the password should be an RSP token.\n",
    "        See e.g. https://nb.lsst.io/environment/tokens.html \n",
    "    params : `dict`\n",
    "        Dictionary of parameters for the REST API query.\n",
    "        See docs for each service for more details.\n",
    "\n",
    "    Returns\n",
    "    -------\n",
    "    messages : `pd.DataFrame`\n",
    "        The returned log messages (if any available), in a dataframe.\n",
    "    \"\"\"\n",
    "    # Very often, requests from the logging endpoints fail the first time.\n",
    "    response = requests.get(endpoint, auth=auth, params=params)\n",
    "    # Try twice.\n",
    "    if response.status_code != 200:\n",
    "        response = requests.get(endpoint, auth=auth, params=params)\n",
    "    if response.status_code != 200:\n",
    "        err_string = f\"{endpoint} \"\n",
    "        err_string += \" unavailable.\"\n",
    "        print(response)\n",
    "        print(err_string)\n",
    "        messages = []\n",
    "    else:\n",
    "        messages = response.json()\n",
    "    messages = pd.DataFrame(messages)\n",
    "    return messages\n",
    "\n",
    "def query_consdb(endpoint: str, auth: tuple, params: dict) -> pd.DataFrame:\n",
    "    \"\"\"Send `post` query to consdb.\n",
    "    \n",
    "    Parameters\n",
    "    ----------\n",
    "    endpoint : `str`\n",
    "        The URL to send the query to.\n",
    "        Usually like `https://usdf-rsp.slac.stanford.edu/consdb/query`\n",
    "    auth : `tuple`\n",
    "        The username and password for authentication.\n",
    "        The username can be any string, the password should be an RSP token.\n",
    "        See e.g. https://nb.lsst.io/environment/tokens.html \n",
    "    params : `dict`\n",
    "        Dictionary of parameters for the REST API query.\n",
    "        See docs for each service for more details.\n",
    "\n",
    "    Returns\n",
    "    -------\n",
    "    messages : `pd.DataFrame`\n",
    "        The returned visits information (if any available), in a dataframe.\n",
    "    \"\"\"\n",
    "    # Very often, requests from the logging endpoints fail the first time.\n",
    "    response = requests.post(endpoint, auth=auth, json=params)\n",
    "    # Try twice.\n",
    "    if response.status_code != 200:\n",
    "        response = requests.post(endpoint, auth=auth, json=params)\n",
    "    if response.status_code != 200:        \n",
    "        print(endpoint, response)\n",
    "        print(response.text)\n",
    "        messages = []\n",
    "    else:\n",
    "        messages = response.json()\n",
    "    if len(messages) > 0:\n",
    "        messages = pd.DataFrame(messages['data'], columns=messages['columns'])\n",
    "    return messages\n",
    "\n",
    "def augment_visits(visits: pd.DataFrame) -> pd.DataFrame:\n",
    "    visits.sort_values(by='exp_midpt_mjd', inplace=True)\n",
    "    # Add time between visits\n",
    "    prev_visit_start = np.concatenate([np.array([0]), visits.obs_start_mjd[0:-1]])\n",
    "    prev_visit_end = np.concatenate([np.array([0]), visits.obs_end_mjd[0:-1]])\n",
    "    delta_t = np.concatenate([np.array([0]), (visits.obs_start_mjd[1:].values - visits.obs_end_mjd[:-1].values) * 24 * 60 * 60]) # seconds\n",
    "    visits['prev_obs_start_mjd'] = prev_visit_start\n",
    "    visits['prev_obs_end_mjd'] = prev_visit_end\n",
    "    visits['visit_gap'] = delta_t\n",
    "\n",
    "    observer = Observer(Site(\"LSST\").to_earth_location())\n",
    "    lst = observer.local_sidereal_time(Time(visits['obs_start_mjd'], format='mjd', scale='tai'), 'mean').deg\n",
    "    visits['lst'] = lst\n",
    "    visits['HA'] = (visits['s_ra'] - lst) / 360 * 12 % 24\n",
    "    \n",
    "    # Remove when bug in consdb fixed \n",
    "    visits['alt'] =  90 - visits['altitude']\n",
    "\n",
    "    return visits"
   ]
  },
  {
   "cell_type": "code",
   "execution_count": null,
   "id": "3038762c-d798-4fbb-99e3-fa50036dafc3",
   "metadata": {},
   "outputs": [],
   "source": [
    "# Connect and retrieve visits from the consdb - replace the token file with your own token\n",
    "endpoints = get_clients(token_file = '/Users/lynnej/.lsst/rsp_prod')\n",
    "dayobsint = int(day_obs.replace('-', ''))\n",
    "instrument = 'latiss'\n",
    "query = f\"select * from cdb_{instrument}.visit1 where day_obs = {dayobsint}\"\n",
    "visits = query_consdb(endpoints['api_base'] + endpoints['consdb'], endpoints['auth'], {'query': query})\n",
    "if len(visits) > 0:\n",
    "    visits = augment_visits(visits)\n",
    "    visits = visits.query('img_type not in [\"BIAS\", \"DARK\", \"FLAT\", \"ENGTEST\"]')\n",
    "cols = ['seq_num', 'physical_filter', 's_ra', 's_dec', 'altitude', 'azimuth', 'sky_rotation', 'obs_start', 'obs_end', 'HA', 'exp_time', 'dark_time', 'visit_gap', 'img_type', 'science_program', 'observation_reason', 'target_name']\n",
    "print(f'Retrieved {len(visits)} non-calib visits')\n",
    "\n",
    "# Retrieve Target events from EFD\n",
    "topic = 'lsst.sal.Scheduler.logevent_target'\n",
    "targets = await endpoints['efd'].select_time_series(topic, '*', sunset, sunrise, index=2)\n",
    "print(f'Retrieved {len(targets)} target events')\n",
    "# Snapshots if desired\n",
    "topic = \"lsst.sal.Scheduler.logevent_largeFileObjectAvailable\"\n",
    "fields = [\"url\"]\n",
    "snapshots = await endpoints['efd'].select_time_series(topic, fields, sunset, sunrise, index=2)\n",
    "print(f'Retrieved {len(snapshots)} snapshots')\n",
    "# Retrieve Observation events from EFD\n",
    "topic = 'lsst.sal.Scheduler.logevent_observation'\n",
    "efd_obs = await endpoints['efd'].select_time_series(topic, '*', sunset, sunrise, index=2)\n",
    "print(f'Retrieved {len(efd_obs)} efd observation events')\n",
    "\n",
    "targets['target_time'] = targets.index.copy()\n",
    "efd_obs['obs_time'] = efd_obs.index.copy()\n",
    "efd_obs = pd.merge(efd_obs, targets, how='left', on='targetId')\n",
    "efd_obs.set_index('obs_time', drop=False, inplace=True)"
   ]
  },
  {
   "cell_type": "code",
   "execution_count": null,
   "id": "21c1097c-e4ce-4193-b89d-1e5e32065101",
   "metadata": {},
   "outputs": [],
   "source": [
    "# Plot\n",
    "colors = colorcet.glasbey_category10\n",
    "pcolor = {}\n",
    "plt.figure(figsize=(12, 6))\n",
    "i = 0\n",
    "if len(visits) > 0:\n",
    "    for i, target_name in enumerate(visits.target_name.unique()):\n",
    "        pcolor[target_name] = colors[i]\n",
    "        q = visits.query('target_name == @target_name')\n",
    "        q_acc = q.query('img_type in [\"ACQ\", \"CWFS\"]')\n",
    "        q_s = q.query('img_type not in [\"ACQ\", \"CWFS\"]')\n",
    "        if len(q_acc) > 0:\n",
    "            plt.plot(Time(q_acc.obs_start_mjd, format='mjd', scale='tai').datetime, q_acc.airmass,\n",
    "                     marker='*', markersize=15, markerfacecolor='white', alpha=0.4, color=pcolor[target_name],\n",
    "                     linestyle='', label=target_name)\n",
    "        if len(q_s) > 0:\n",
    "            plt.plot(Time(q_s.obs_start_mjd, format='mjd', scale='tai').datetime, q_s.airmass,\n",
    "                     marker='o', markersize=9, markerfacecolor='white', alpha=0.6, color=pcolor[target_name],\n",
    "                     linestyle='', label=target_name)\n",
    "\n",
    "for j, scheduler_note in enumerate(np.unique(observations['scheduler_note'])):\n",
    "    # target_name = scheduler_note.split(\" \")[0].split(\":\")[-1]\n",
    "    target_name = scheduler_note.split(\":\")[-1]\n",
    "    if target_name in pcolor.keys():\n",
    "        color = pcolor[target_name]\n",
    "    else:\n",
    "        color = colors[i + j]\n",
    "    match = np.where(observations['scheduler_note'] == scheduler_note)\n",
    "    plt.plot(Time(observations[match]['mjd'], format='mjd', scale='utc').datetime, observations[match]['airmass'],\n",
    "             marker='o', markeredgecolor='lightgray', markersize=5, alpha=0.8, linestyle='', color=color, label=scheduler_note)\n",
    "if len(targets) > 0:\n",
    "    plt.plot(targets.index.values, targets.airmass, marker='+', markersize=8, color='gray', linestyle='', label=\"Target events\")\n",
    "    plt.plot(efd_obs.target_time.values, efd_obs.airmass, marker='x', markersize=8, color='gray', alpha=0.8, linestyle='')\n",
    "\n",
    "plt.xlim(sunset.datetime, sunrise.datetime)\n",
    "plt.ylim(2.3, 0.9)\n",
    "plt.legend(loc=(1.0, 0))\n",
    "plt.xticks(rotation=45)\n",
    "plt.xlabel(\"Time (MJD)\")\n",
    "plt.ylabel(\"Airmass\")\n",
    "plt.grid(alpha=0.3)\n",
    "\n",
    "# Current HA for targets\n",
    "if Time.now() > sunset and Time.now() < sunrise:\n",
    "    plt.axvline(Time.now().datetime)\n",
    "    lst_now = Time.now().sidereal_time('mean', longitude=site.longitude*u.deg)\n",
    "    print(\"LST now\", lst_now.hour, \"hours\")\n",
    "    print(\"Current HA for targets:\", (Angle(target_info.loc[active_target_names, 'ra'].values, unit=u.hour) - lst_now).hour)"
   ]
  },
  {
   "cell_type": "code",
   "execution_count": null,
   "id": "5e846d55-e41a-49c9-a4ab-d859bcca765e",
   "metadata": {},
   "outputs": [],
   "source": [
    "start_time = Time(efd_obs.target_time.iloc[0], format='datetime')"
   ]
  },
  {
   "cell_type": "code",
   "execution_count": null,
   "id": "86eaf1e1-60a4-49e4-b164-a6b86d7d4ff9",
   "metadata": {},
   "outputs": [],
   "source": [
    "if len(visits) > 0:\n",
    "    # Did we need to rerun sim with later start time? \n",
    "    start_time = Time(visits.query('img_type == \"CWFS\"').iloc[-1].obs_start, format='isot', scale='tai').utc\n",
    "    print('last cwfs', start_time.iso, 'sunset', sunset.iso, 'approx delay (minutes)', (start_time - sunset).sec/60)\n",
    "    # Could rerun sim with updated start_time "
   ]
  },
  {
   "cell_type": "code",
   "execution_count": null,
   "id": "8f26d242-80ce-4a1f-b2af-69c7849eccfb",
   "metadata": {},
   "outputs": [],
   "source": [
    "# Check on sequence timing / exptime vs. BLOCK execution time\n",
    "if len(visits) > 0:\n",
    "    for target in visits.target_name.unique():\n",
    "        q = visits.query('target_name == @target and img_type == \"ACQ\" and visit_gap < 50')\n",
    "        dd = np.diff(q.obs_start_mjd) * 24  * 60 * 60\n",
    "        print(f\"{target} exptime\", dd[np.where(dd < 2000)].mean())"
   ]
  },
  {
   "cell_type": "code",
   "execution_count": null,
   "id": "3f8bc371-5286-43d4-8ec6-88022ca11086",
   "metadata": {},
   "outputs": [],
   "source": [
    "# Another check on time between visits in sim vs. real visits for the same target - block size / exptime check\n",
    "# Might have to adjust start/end ?\n",
    "if len(visits) > 0:\n",
    "    for target in visits.target_name.unique():        \n",
    "        ss = np.array([Time(t, format='mjd', scale='utc') for t in s_visits.query('target_name == @target and slewTime < 120').observationStartMJD.values])\n",
    "        ss = [t.sec for t in np.diff(ss)]\n",
    "        vv = np.array([Time(t, format='mjd', scale='utc') for t in visits.query('target_name == @target and img_type == \"ACQ\" and visit_gap < 50').obs_start_mjd.values]) \n",
    "        vv = [t.sec for t in np.diff(vv)]\n",
    "        print(len(ss), len(vv))\n",
    "        xx = list(zip(ss, vv))\n",
    "        # values in first column indicate if sim was 'faster' (negative) or 'slower' (positive) than real time starting points of blocks\n",
    "        _ = [print(x[0] - x[1], x[0], x[1]) for x in xx if abs(x[0] - x[1]) < 300]"
   ]
  },
  {
   "cell_type": "code",
   "execution_count": null,
   "id": "8bf28a23-e1b1-4697-a18c-4a8e1ed8aaa8",
   "metadata": {},
   "outputs": [],
   "source": [
    "# Check slewtimes - probably need to adjust starting/end points\n",
    "if len(visits) > 0:\n",
    "    prev_target = np.concatenate([np.array(['']), visits.target_name[0:-1]])\n",
    "    target_changes = np.where(prev_target != visits.target_name.values)[0][2:]\n",
    "    print(len(target_changes))\n",
    "    visits.iloc[target_changes][cols]"
   ]
  },
  {
   "cell_type": "code",
   "execution_count": null,
   "id": "3eb54853-70bd-41ff-8422-69efc6dace70",
   "metadata": {},
   "outputs": [],
   "source": [
    "s_prev_target = np.concatenate([np.array(['']), s_visits.target_name[0:-1]])\n",
    "s_target_changes = np.where(s_prev_target != s_visits.target_name.values)[0][2:]\n",
    "print(len(s_target_changes))\n",
    "s_visits.iloc[s_target_changes][['fieldRA', 'fieldDec', 'slewTime', 'target_name']]"
   ]
  },
  {
   "cell_type": "code",
   "execution_count": null,
   "id": "073e3f09-121c-4480-8975-d41f7673c8c8",
   "metadata": {},
   "outputs": [],
   "source": [
    "if len(visits) > 0:\n",
    "    dd = pd.DataFrame(list(zip(visits.iloc[target_changes].visit_gap, s_visits.iloc[s_target_changes].slewTime, \n",
    "                          visits.iloc[target_changes].target_name, s_visits.iloc[s_target_changes].target_name)), \n",
    "                 columns=['visit_gap', 'slew_time', 'target_v', 'target_s'])\n",
    "    dd['diff'] = dd.visit_gap - dd.slew_time\n",
    "    print(len(dd))\n",
    "    # negative - visit_gap smaller than slew_time, so real visits slewing faster\n",
    "    dd.sort_values(by='target_s')"
   ]
  },
  {
   "cell_type": "code",
   "execution_count": null,
   "id": "5a5f0c5c-31c5-4fc6-8d90-80a8a92e2723",
   "metadata": {},
   "outputs": [],
   "source": []
  }
 ],
 "metadata": {
  "kernelspec": {
   "display_name": "Python 3 (ipykernel)",
   "language": "python",
   "name": "python3"
  },
  "language_info": {
   "codemirror_mode": {
    "name": "ipython",
    "version": 3
   },
   "file_extension": ".py",
   "mimetype": "text/x-python",
   "name": "python",
   "nbconvert_exporter": "python",
   "pygments_lexer": "ipython3",
   "version": "3.13.1"
  }
 },
 "nbformat": 4,
 "nbformat_minor": 5
}
